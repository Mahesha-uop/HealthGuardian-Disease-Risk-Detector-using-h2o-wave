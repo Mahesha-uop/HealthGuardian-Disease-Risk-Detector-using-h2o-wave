{
  "nbformat": 4,
  "nbformat_minor": 0,
  "metadata": {
    "colab": {
      "provenance": [],
      "include_colab_link": true
    },
    "kernelspec": {
      "name": "python3",
      "display_name": "Python 3"
    },
    "accelerator": "GPU"
  },
  "cells": [
    {
      "cell_type": "markdown",
      "metadata": {
        "id": "view-in-github",
        "colab_type": "text"
      },
      "source": [
        "<a href=\"https://colab.research.google.com/github/Mahesha-uop/HealthGuardian-Disease-Risk-Detector-using-h2o-wave/blob/main/train/CVD_Risk_Prediction_H2O_AutoML.ipynb\" target=\"_parent\"><img src=\"https://colab.research.google.com/assets/colab-badge.svg\" alt=\"Open In Colab\"/></a>"
      ]
    },
    {
      "cell_type": "code",
      "metadata": {
        "id": "0GA_-zrlpEa5",
        "outputId": "dd9d82a5-432f-43c0-f87b-ce2ddd89e859",
        "colab": {
          "base_uri": "https://localhost:8080/"
        }
      },
      "source": [
        "!apt-get install default-jre\n",
        "!java -version"
      ],
      "execution_count": null,
      "outputs": [
        {
          "output_type": "stream",
          "name": "stdout",
          "text": [
            "Reading package lists... Done\n",
            "Building dependency tree... Done\n",
            "Reading state information... Done\n",
            "The following additional packages will be installed:\n",
            "  default-jre-headless fonts-dejavu-core fonts-dejavu-extra libatk-wrapper-java\n",
            "  libatk-wrapper-java-jni libfontenc1 libxkbfile1 libxtst6 libxxf86dga1 openjdk-11-jre x11-utils\n",
            "Suggested packages:\n",
            "  mesa-utils\n",
            "The following NEW packages will be installed:\n",
            "  default-jre default-jre-headless fonts-dejavu-core fonts-dejavu-extra libatk-wrapper-java\n",
            "  libatk-wrapper-java-jni libfontenc1 libxkbfile1 libxtst6 libxxf86dga1 openjdk-11-jre x11-utils\n",
            "0 upgraded, 12 newly installed, 0 to remove and 33 not upgraded.\n",
            "Need to get 3,720 kB of archives.\n",
            "After this operation, 12.7 MB of additional disk space will be used.\n",
            "Get:1 http://archive.ubuntu.com/ubuntu jammy/main amd64 default-jre-headless amd64 2:1.11-72build2 [3,042 B]\n",
            "Get:2 http://archive.ubuntu.com/ubuntu jammy/main amd64 libxtst6 amd64 2:1.2.3-1build4 [13.4 kB]\n",
            "Get:3 http://archive.ubuntu.com/ubuntu jammy-updates/main amd64 openjdk-11-jre amd64 11.0.21+9-0ubuntu1~22.04 [214 kB]\n",
            "Get:4 http://archive.ubuntu.com/ubuntu jammy/main amd64 default-jre amd64 2:1.11-72build2 [896 B]\n",
            "Get:5 http://archive.ubuntu.com/ubuntu jammy/main amd64 fonts-dejavu-core all 2.37-2build1 [1,041 kB]\n",
            "Get:6 http://archive.ubuntu.com/ubuntu jammy/main amd64 fonts-dejavu-extra all 2.37-2build1 [2,041 kB]\n",
            "Get:7 http://archive.ubuntu.com/ubuntu jammy/main amd64 libfontenc1 amd64 1:1.1.4-1build3 [14.7 kB]\n",
            "Get:8 http://archive.ubuntu.com/ubuntu jammy/main amd64 libxkbfile1 amd64 1:1.1.0-1build3 [71.8 kB]\n",
            "Get:9 http://archive.ubuntu.com/ubuntu jammy/main amd64 libxxf86dga1 amd64 2:1.1.5-0ubuntu3 [12.6 kB]\n",
            "Get:10 http://archive.ubuntu.com/ubuntu jammy/main amd64 x11-utils amd64 7.7+5build2 [206 kB]\n",
            "Get:11 http://archive.ubuntu.com/ubuntu jammy/main amd64 libatk-wrapper-java all 0.38.0-5build1 [53.1 kB]\n",
            "Get:12 http://archive.ubuntu.com/ubuntu jammy/main amd64 libatk-wrapper-java-jni amd64 0.38.0-5build1 [49.0 kB]\n",
            "Fetched 3,720 kB in 3s (1,379 kB/s)\n",
            "Selecting previously unselected package default-jre-headless.\n",
            "(Reading database ... 121749 files and directories currently installed.)\n",
            "Preparing to unpack .../00-default-jre-headless_2%3a1.11-72build2_amd64.deb ...\n",
            "Unpacking default-jre-headless (2:1.11-72build2) ...\n",
            "Selecting previously unselected package libxtst6:amd64.\n",
            "Preparing to unpack .../01-libxtst6_2%3a1.2.3-1build4_amd64.deb ...\n",
            "Unpacking libxtst6:amd64 (2:1.2.3-1build4) ...\n",
            "Selecting previously unselected package openjdk-11-jre:amd64.\n",
            "Preparing to unpack .../02-openjdk-11-jre_11.0.21+9-0ubuntu1~22.04_amd64.deb ...\n",
            "Unpacking openjdk-11-jre:amd64 (11.0.21+9-0ubuntu1~22.04) ...\n",
            "Selecting previously unselected package default-jre.\n",
            "Preparing to unpack .../03-default-jre_2%3a1.11-72build2_amd64.deb ...\n",
            "Unpacking default-jre (2:1.11-72build2) ...\n",
            "Selecting previously unselected package fonts-dejavu-core.\n",
            "Preparing to unpack .../04-fonts-dejavu-core_2.37-2build1_all.deb ...\n",
            "Unpacking fonts-dejavu-core (2.37-2build1) ...\n",
            "Selecting previously unselected package fonts-dejavu-extra.\n",
            "Preparing to unpack .../05-fonts-dejavu-extra_2.37-2build1_all.deb ...\n",
            "Unpacking fonts-dejavu-extra (2.37-2build1) ...\n",
            "Selecting previously unselected package libfontenc1:amd64.\n",
            "Preparing to unpack .../06-libfontenc1_1%3a1.1.4-1build3_amd64.deb ...\n",
            "Unpacking libfontenc1:amd64 (1:1.1.4-1build3) ...\n",
            "Selecting previously unselected package libxkbfile1:amd64.\n",
            "Preparing to unpack .../07-libxkbfile1_1%3a1.1.0-1build3_amd64.deb ...\n",
            "Unpacking libxkbfile1:amd64 (1:1.1.0-1build3) ...\n",
            "Selecting previously unselected package libxxf86dga1:amd64.\n",
            "Preparing to unpack .../08-libxxf86dga1_2%3a1.1.5-0ubuntu3_amd64.deb ...\n",
            "Unpacking libxxf86dga1:amd64 (2:1.1.5-0ubuntu3) ...\n",
            "Selecting previously unselected package x11-utils.\n",
            "Preparing to unpack .../09-x11-utils_7.7+5build2_amd64.deb ...\n",
            "Unpacking x11-utils (7.7+5build2) ...\n",
            "Selecting previously unselected package libatk-wrapper-java.\n",
            "Preparing to unpack .../10-libatk-wrapper-java_0.38.0-5build1_all.deb ...\n",
            "Unpacking libatk-wrapper-java (0.38.0-5build1) ...\n",
            "Selecting previously unselected package libatk-wrapper-java-jni:amd64.\n",
            "Preparing to unpack .../11-libatk-wrapper-java-jni_0.38.0-5build1_amd64.deb ...\n",
            "Unpacking libatk-wrapper-java-jni:amd64 (0.38.0-5build1) ...\n",
            "Setting up default-jre-headless (2:1.11-72build2) ...\n",
            "Setting up libxtst6:amd64 (2:1.2.3-1build4) ...\n",
            "Setting up libxxf86dga1:amd64 (2:1.1.5-0ubuntu3) ...\n",
            "Setting up openjdk-11-jre:amd64 (11.0.21+9-0ubuntu1~22.04) ...\n",
            "Setting up default-jre (2:1.11-72build2) ...\n",
            "Setting up libfontenc1:amd64 (1:1.1.4-1build3) ...\n",
            "Setting up fonts-dejavu-core (2.37-2build1) ...\n",
            "Setting up fonts-dejavu-extra (2.37-2build1) ...\n",
            "Setting up libxkbfile1:amd64 (1:1.1.0-1build3) ...\n",
            "Setting up x11-utils (7.7+5build2) ...\n",
            "Setting up libatk-wrapper-java (0.38.0-5build1) ...\n",
            "Setting up libatk-wrapper-java-jni:amd64 (0.38.0-5build1) ...\n",
            "Processing triggers for hicolor-icon-theme (0.17-2) ...\n",
            "Processing triggers for libc-bin (2.35-0ubuntu3.4) ...\n",
            "/sbin/ldconfig.real: /usr/local/lib/libtbbbind_2_0.so.3 is not a symbolic link\n",
            "\n",
            "/sbin/ldconfig.real: /usr/local/lib/libtbbbind.so.3 is not a symbolic link\n",
            "\n",
            "/sbin/ldconfig.real: /usr/local/lib/libtbb.so.12 is not a symbolic link\n",
            "\n",
            "/sbin/ldconfig.real: /usr/local/lib/libtbbmalloc.so.2 is not a symbolic link\n",
            "\n",
            "/sbin/ldconfig.real: /usr/local/lib/libtbbmalloc_proxy.so.2 is not a symbolic link\n",
            "\n",
            "/sbin/ldconfig.real: /usr/local/lib/libtbbbind_2_5.so.3 is not a symbolic link\n",
            "\n",
            "Processing triggers for man-db (2.10.2-1) ...\n",
            "Processing triggers for fontconfig (2.13.1-4.2ubuntu5) ...\n",
            "openjdk version \"11.0.21\" 2023-10-17\n",
            "OpenJDK Runtime Environment (build 11.0.21+9-post-Ubuntu-0ubuntu122.04)\n",
            "OpenJDK 64-Bit Server VM (build 11.0.21+9-post-Ubuntu-0ubuntu122.04, mixed mode, sharing)\n"
          ]
        }
      ]
    },
    {
      "cell_type": "code",
      "source": [
        "# If using google drive to have the dataset\n",
        "from google.colab import drive\n",
        "drive.mount('/content/drive')"
      ],
      "metadata": {
        "colab": {
          "base_uri": "https://localhost:8080/"
        },
        "id": "wZEOZv_Kn-lW",
        "outputId": "c2dfa348-8467-40fa-9b69-d67fd865c01c"
      },
      "execution_count": null,
      "outputs": [
        {
          "output_type": "stream",
          "name": "stdout",
          "text": [
            "Mounted at /content/drive\n"
          ]
        }
      ]
    },
    {
      "cell_type": "code",
      "metadata": {
        "id": "eHZ8z6iGzZew",
        "outputId": "59e94030-b126-43e6-c4b9-888ec7f93896",
        "colab": {
          "base_uri": "https://localhost:8080/"
        }
      },
      "source": [
        "# Install h2o if haven't installed\n",
        "!pip install h2o"
      ],
      "execution_count": null,
      "outputs": [
        {
          "output_type": "stream",
          "name": "stdout",
          "text": [
            "Collecting h2o\n",
            "  Downloading h2o-3.44.0.3.tar.gz (265.2 MB)\n",
            "\u001b[2K     \u001b[90m━━━━━━━━━━━━━━━━━━━━━━━━━━━━━━━━━━━━━━━━\u001b[0m \u001b[32m265.2/265.2 MB\u001b[0m \u001b[31m2.2 MB/s\u001b[0m eta \u001b[36m0:00:00\u001b[0m\n",
            "\u001b[?25h  Preparing metadata (setup.py) ... \u001b[?25l\u001b[?25hdone\n",
            "Requirement already satisfied: requests in /usr/local/lib/python3.10/dist-packages (from h2o) (2.31.0)\n",
            "Requirement already satisfied: tabulate in /usr/local/lib/python3.10/dist-packages (from h2o) (0.9.0)\n",
            "Requirement already satisfied: charset-normalizer<4,>=2 in /usr/local/lib/python3.10/dist-packages (from requests->h2o) (3.3.2)\n",
            "Requirement already satisfied: idna<4,>=2.5 in /usr/local/lib/python3.10/dist-packages (from requests->h2o) (3.6)\n",
            "Requirement already satisfied: urllib3<3,>=1.21.1 in /usr/local/lib/python3.10/dist-packages (from requests->h2o) (2.0.7)\n",
            "Requirement already satisfied: certifi>=2017.4.17 in /usr/local/lib/python3.10/dist-packages (from requests->h2o) (2024.2.2)\n",
            "Building wheels for collected packages: h2o\n",
            "  Building wheel for h2o (setup.py) ... \u001b[?25l\u001b[?25hdone\n",
            "  Created wheel for h2o: filename=h2o-3.44.0.3-py2.py3-none-any.whl size=265293968 sha256=fffe1f46e07c9521b32f2a26a83ab0fec535a17e4c6a28410b98f710dc177b66\n",
            "  Stored in directory: /root/.cache/pip/wheels/77/9a/1c/2da26f943fd46b57f3c20b54847b936b9152b831dc7447cf71\n",
            "Successfully built h2o\n",
            "Installing collected packages: h2o\n",
            "Successfully installed h2o-3.44.0.3\n"
          ]
        }
      ]
    },
    {
      "cell_type": "code",
      "metadata": {
        "id": "m0g8oq01zcgM"
      },
      "source": [
        " # Import necessary libraries from h2o\n",
        " import h2o\n",
        " from h2o.automl import H2OAutoML"
      ],
      "execution_count": null,
      "outputs": []
    },
    {
      "cell_type": "code",
      "metadata": {
        "id": "z2WAtRd4zixl",
        "outputId": "982d2d18-6a56-4054-ceae-939295883eef",
        "colab": {
          "base_uri": "https://localhost:8080/",
          "height": 532
        }
      },
      "source": [
        "# Check instance of H2O\n",
        "h2o.init()"
      ],
      "execution_count": null,
      "outputs": [
        {
          "output_type": "stream",
          "name": "stdout",
          "text": [
            "Checking whether there is an H2O instance running at http://localhost:54321..... not found.\n",
            "Attempting to start a local H2O server...\n",
            "  Java Version: openjdk version \"11.0.21\" 2023-10-17; OpenJDK Runtime Environment (build 11.0.21+9-post-Ubuntu-0ubuntu122.04); OpenJDK 64-Bit Server VM (build 11.0.21+9-post-Ubuntu-0ubuntu122.04, mixed mode, sharing)\n",
            "  Starting server from /usr/local/lib/python3.10/dist-packages/h2o/backend/bin/h2o.jar\n",
            "  Ice root: /tmp/tmpj8sugorj\n",
            "  JVM stdout: /tmp/tmpj8sugorj/h2o_unknownUser_started_from_python.out\n",
            "  JVM stderr: /tmp/tmpj8sugorj/h2o_unknownUser_started_from_python.err\n",
            "  Server is running at http://127.0.0.1:54321\n",
            "Connecting to H2O server at http://127.0.0.1:54321 ... successful.\n"
          ]
        },
        {
          "output_type": "display_data",
          "data": {
            "text/plain": [
              "--------------------------  -----------------------------------------------------------------------------------------\n",
              "H2O_cluster_uptime:         03 secs\n",
              "H2O_cluster_timezone:       Etc/UTC\n",
              "H2O_data_parsing_timezone:  UTC\n",
              "H2O_cluster_version:        3.44.0.3\n",
              "H2O_cluster_version_age:    1 month and 30 days\n",
              "H2O_cluster_name:           H2O_from_python_unknownUser_s2la8t\n",
              "H2O_cluster_total_nodes:    1\n",
              "H2O_cluster_free_memory:    3.170 Gb\n",
              "H2O_cluster_total_cores:    2\n",
              "H2O_cluster_allowed_cores:  2\n",
              "H2O_cluster_status:         locked, healthy\n",
              "H2O_connection_url:         http://127.0.0.1:54321\n",
              "H2O_connection_proxy:       {\"http\": null, \"https\": null, \"colab_language_server\": \"/usr/colab/bin/language_service\"}\n",
              "H2O_internal_security:      False\n",
              "Python_version:             3.10.12 final\n",
              "--------------------------  -----------------------------------------------------------------------------------------"
            ],
            "text/html": [
              "\n",
              "<style>\n",
              "\n",
              "#h2o-table-1.h2o-container {\n",
              "  overflow-x: auto;\n",
              "}\n",
              "#h2o-table-1 .h2o-table {\n",
              "  /* width: 100%; */\n",
              "  margin-top: 1em;\n",
              "  margin-bottom: 1em;\n",
              "}\n",
              "#h2o-table-1 .h2o-table caption {\n",
              "  white-space: nowrap;\n",
              "  caption-side: top;\n",
              "  text-align: left;\n",
              "  /* margin-left: 1em; */\n",
              "  margin: 0;\n",
              "  font-size: larger;\n",
              "}\n",
              "#h2o-table-1 .h2o-table thead {\n",
              "  white-space: nowrap; \n",
              "  position: sticky;\n",
              "  top: 0;\n",
              "  box-shadow: 0 -1px inset;\n",
              "}\n",
              "#h2o-table-1 .h2o-table tbody {\n",
              "  overflow: auto;\n",
              "}\n",
              "#h2o-table-1 .h2o-table th,\n",
              "#h2o-table-1 .h2o-table td {\n",
              "  text-align: right;\n",
              "  /* border: 1px solid; */\n",
              "}\n",
              "#h2o-table-1 .h2o-table tr:nth-child(even) {\n",
              "  /* background: #F5F5F5 */\n",
              "}\n",
              "\n",
              "</style>      \n",
              "<div id=\"h2o-table-1\" class=\"h2o-container\">\n",
              "  <table class=\"h2o-table\">\n",
              "    <caption></caption>\n",
              "    <thead></thead>\n",
              "    <tbody><tr><td>H2O_cluster_uptime:</td>\n",
              "<td>03 secs</td></tr>\n",
              "<tr><td>H2O_cluster_timezone:</td>\n",
              "<td>Etc/UTC</td></tr>\n",
              "<tr><td>H2O_data_parsing_timezone:</td>\n",
              "<td>UTC</td></tr>\n",
              "<tr><td>H2O_cluster_version:</td>\n",
              "<td>3.44.0.3</td></tr>\n",
              "<tr><td>H2O_cluster_version_age:</td>\n",
              "<td>1 month and 30 days</td></tr>\n",
              "<tr><td>H2O_cluster_name:</td>\n",
              "<td>H2O_from_python_unknownUser_s2la8t</td></tr>\n",
              "<tr><td>H2O_cluster_total_nodes:</td>\n",
              "<td>1</td></tr>\n",
              "<tr><td>H2O_cluster_free_memory:</td>\n",
              "<td>3.170 Gb</td></tr>\n",
              "<tr><td>H2O_cluster_total_cores:</td>\n",
              "<td>2</td></tr>\n",
              "<tr><td>H2O_cluster_allowed_cores:</td>\n",
              "<td>2</td></tr>\n",
              "<tr><td>H2O_cluster_status:</td>\n",
              "<td>locked, healthy</td></tr>\n",
              "<tr><td>H2O_connection_url:</td>\n",
              "<td>http://127.0.0.1:54321</td></tr>\n",
              "<tr><td>H2O_connection_proxy:</td>\n",
              "<td>{\"http\": null, \"https\": null, \"colab_language_server\": \"/usr/colab/bin/language_service\"}</td></tr>\n",
              "<tr><td>H2O_internal_security:</td>\n",
              "<td>False</td></tr>\n",
              "<tr><td>Python_version:</td>\n",
              "<td>3.10.12 final</td></tr></tbody>\n",
              "  </table>\n",
              "</div>\n"
            ]
          },
          "metadata": {}
        }
      ]
    },
    {
      "cell_type": "code",
      "metadata": {
        "id": "j-ZCVNqg5DMo",
        "outputId": "f4764395-53a6-4bad-a1c9-baca74d80909",
        "colab": {
          "base_uri": "https://localhost:8080/"
        }
      },
      "source": [
        "# Import data in csv as a dataframe\n",
        "file_path = '/content/drive/MyDrive/Machine Learning/H2O /CVD risk assessment dataset.csv' # Give the file path. In my case google drive\n",
        "CVD_details_df = h2o.import_file(file_path)"
      ],
      "execution_count": null,
      "outputs": [
        {
          "output_type": "stream",
          "name": "stdout",
          "text": [
            "Parse progress: |████████████████████████████████████████████████████████████████| (done) 100%\n"
          ]
        }
      ]
    },
    {
      "cell_type": "code",
      "metadata": {
        "id": "aRFEg-iE1LbK",
        "outputId": "b067ae5d-2544-452e-9636-6154a5cbd362",
        "colab": {
          "base_uri": "https://localhost:8080/"
        }
      },
      "source": [
        "# Recognize field in csv\n",
        "CVD_details_df.types"
      ],
      "execution_count": null,
      "outputs": [
        {
          "output_type": "execute_result",
          "data": {
            "text/plain": [
              "{'id': 'int',\n",
              " 'age': 'int',\n",
              " 'gender': 'int',\n",
              " 'height': 'int',\n",
              " 'weight': 'real',\n",
              " 'ap_hi': 'int',\n",
              " 'ap_lo': 'int',\n",
              " 'cholesterol': 'int',\n",
              " 'gluc': 'int',\n",
              " 'smoke': 'int',\n",
              " 'alco': 'int',\n",
              " 'active': 'int',\n",
              " 'cardio': 'int'}"
            ]
          },
          "metadata": {},
          "execution_count": 8
        }
      ]
    },
    {
      "cell_type": "code",
      "metadata": {
        "id": "R2nAk2Pf5fF1",
        "outputId": "2e5990c4-1298-4011-f7b0-0f3f44a7ee73",
        "colab": {
          "base_uri": "https://localhost:8080/",
          "height": 691
        }
      },
      "source": [
        "# Visualize statics in data file\n",
        "CVD_details_df.describe()"
      ],
      "execution_count": null,
      "outputs": [
        {
          "output_type": "display_data",
          "data": {
            "text/plain": [
              "Rows:70000\n",
              "Cols:13\n"
            ],
            "text/html": [
              "<pre style='margin: 1em 0 1em 0;'>Rows:70000\n",
              "Cols:13\n",
              "</pre>"
            ]
          },
          "metadata": {}
        },
        {
          "output_type": "display_data",
          "data": {
            "text/plain": [
              "         id                 age                 gender              height              weight             ap_hi               ap_lo               cholesterol         gluc                smoke                alco                  active              cardio\n",
              "-------  -----------------  ------------------  ------------------  ------------------  -----------------  ------------------  ------------------  ------------------  ------------------  -------------------  --------------------  ------------------  ------------------\n",
              "type     int                int                 int                 int                 real               int                 int                 int                 int                 int                  int                   int                 int\n",
              "mins     0.0                10798.0             1.0                 55.0                10.0               -150.0              -70.0               1.0                 1.0                 0.0                  0.0                   0.0                 0.0\n",
              "mean     49972.41989999997  19468.86581428572   1.3495714285714278  164.35922857142853  74.20568999999986  128.81728571428556  96.63041428571434   1.3668714285714292  1.2264571428571438  0.08812857142857143  0.053771428571428574  0.8037285714285715  0.4997\n",
              "maxs     99999.0            23713.0             2.0                 250.0               200.0              16020.0             11000.0             3.0                 3.0                 1.0                  1.0                   1.0                 1.0\n",
              "sigma    28851.30232317292  2467.2516672413994  0.4768380155828635  8.210126364538025   14.39575667851138  154.01141945609137  188.47253029639026  0.6802503486993808  0.5722702766138448  0.28348381676993517  0.22556770360410489   0.3971790635049283  0.5000034814661862\n",
              "zeros    1                  0                   0                   0                   0                  0                   21                  0                   0                   63831                66236                 13739               35021\n",
              "missing  0                  0                   0                   0                   0                  0                   0                   0                   0                   0                    0                     0                   0\n",
              "0        0.0                18393.0             2.0                 168.0               62.0               110.0               80.0                1.0                 1.0                 0.0                  0.0                   1.0                 0.0\n",
              "1        1.0                20228.0             1.0                 156.0               85.0               140.0               90.0                3.0                 1.0                 0.0                  0.0                   1.0                 1.0\n",
              "2        2.0                18857.0             1.0                 165.0               64.0               130.0               70.0                3.0                 1.0                 0.0                  0.0                   0.0                 1.0\n",
              "3        3.0                17623.0             2.0                 169.0               82.0               150.0               100.0               1.0                 1.0                 0.0                  0.0                   1.0                 1.0\n",
              "4        4.0                17474.0             1.0                 156.0               56.0               100.0               60.0                1.0                 1.0                 0.0                  0.0                   0.0                 0.0\n",
              "5        8.0                21914.0             1.0                 151.0               67.0               120.0               80.0                2.0                 2.0                 0.0                  0.0                   0.0                 0.0\n",
              "6        9.0                22113.0             1.0                 157.0               93.0               130.0               80.0                3.0                 1.0                 0.0                  0.0                   1.0                 0.0\n",
              "7        12.0               22584.0             2.0                 178.0               95.0               130.0               90.0                3.0                 3.0                 0.0                  0.0                   1.0                 1.0\n",
              "8        13.0               17668.0             1.0                 158.0               71.0               110.0               70.0                1.0                 1.0                 0.0                  0.0                   1.0                 0.0\n",
              "9        14.0               19834.0             1.0                 164.0               68.0               110.0               60.0                1.0                 1.0                 0.0                  0.0                   0.0                 0.0\n",
              "[70000 rows x 13 columns]\n"
            ],
            "text/html": [
              "<table class='dataframe'>\n",
              "<thead>\n",
              "<tr><th>       </th><th>id               </th><th>age               </th><th>gender            </th><th>height            </th><th>weight           </th><th>ap_hi             </th><th>ap_lo             </th><th>cholesterol       </th><th>gluc              </th><th>smoke              </th><th>alco                </th><th>active            </th><th>cardio            </th></tr>\n",
              "</thead>\n",
              "<tbody>\n",
              "<tr><td>type   </td><td>int              </td><td>int               </td><td>int               </td><td>int               </td><td>real             </td><td>int               </td><td>int               </td><td>int               </td><td>int               </td><td>int                </td><td>int                 </td><td>int               </td><td>int               </td></tr>\n",
              "<tr><td>mins   </td><td>0.0              </td><td>10798.0           </td><td>1.0               </td><td>55.0              </td><td>10.0             </td><td>-150.0            </td><td>-70.0             </td><td>1.0               </td><td>1.0               </td><td>0.0                </td><td>0.0                 </td><td>0.0               </td><td>0.0               </td></tr>\n",
              "<tr><td>mean   </td><td>49972.41989999997</td><td>19468.86581428572 </td><td>1.3495714285714278</td><td>164.35922857142853</td><td>74.20568999999986</td><td>128.81728571428556</td><td>96.63041428571434 </td><td>1.3668714285714292</td><td>1.2264571428571438</td><td>0.08812857142857143</td><td>0.053771428571428574</td><td>0.8037285714285715</td><td>0.4997            </td></tr>\n",
              "<tr><td>maxs   </td><td>99999.0          </td><td>23713.0           </td><td>2.0               </td><td>250.0             </td><td>200.0            </td><td>16020.0           </td><td>11000.0           </td><td>3.0               </td><td>3.0               </td><td>1.0                </td><td>1.0                 </td><td>1.0               </td><td>1.0               </td></tr>\n",
              "<tr><td>sigma  </td><td>28851.30232317292</td><td>2467.2516672413994</td><td>0.4768380155828635</td><td>8.210126364538025 </td><td>14.39575667851138</td><td>154.01141945609137</td><td>188.47253029639026</td><td>0.6802503486993808</td><td>0.5722702766138448</td><td>0.28348381676993517</td><td>0.22556770360410489 </td><td>0.3971790635049283</td><td>0.5000034814661862</td></tr>\n",
              "<tr><td>zeros  </td><td>1                </td><td>0                 </td><td>0                 </td><td>0                 </td><td>0                </td><td>0                 </td><td>21                </td><td>0                 </td><td>0                 </td><td>63831              </td><td>66236               </td><td>13739             </td><td>35021             </td></tr>\n",
              "<tr><td>missing</td><td>0                </td><td>0                 </td><td>0                 </td><td>0                 </td><td>0                </td><td>0                 </td><td>0                 </td><td>0                 </td><td>0                 </td><td>0                  </td><td>0                   </td><td>0                 </td><td>0                 </td></tr>\n",
              "<tr><td>0      </td><td>0.0              </td><td>18393.0           </td><td>2.0               </td><td>168.0             </td><td>62.0             </td><td>110.0             </td><td>80.0              </td><td>1.0               </td><td>1.0               </td><td>0.0                </td><td>0.0                 </td><td>1.0               </td><td>0.0               </td></tr>\n",
              "<tr><td>1      </td><td>1.0              </td><td>20228.0           </td><td>1.0               </td><td>156.0             </td><td>85.0             </td><td>140.0             </td><td>90.0              </td><td>3.0               </td><td>1.0               </td><td>0.0                </td><td>0.0                 </td><td>1.0               </td><td>1.0               </td></tr>\n",
              "<tr><td>2      </td><td>2.0              </td><td>18857.0           </td><td>1.0               </td><td>165.0             </td><td>64.0             </td><td>130.0             </td><td>70.0              </td><td>3.0               </td><td>1.0               </td><td>0.0                </td><td>0.0                 </td><td>0.0               </td><td>1.0               </td></tr>\n",
              "<tr><td>3      </td><td>3.0              </td><td>17623.0           </td><td>2.0               </td><td>169.0             </td><td>82.0             </td><td>150.0             </td><td>100.0             </td><td>1.0               </td><td>1.0               </td><td>0.0                </td><td>0.0                 </td><td>1.0               </td><td>1.0               </td></tr>\n",
              "<tr><td>4      </td><td>4.0              </td><td>17474.0           </td><td>1.0               </td><td>156.0             </td><td>56.0             </td><td>100.0             </td><td>60.0              </td><td>1.0               </td><td>1.0               </td><td>0.0                </td><td>0.0                 </td><td>0.0               </td><td>0.0               </td></tr>\n",
              "<tr><td>5      </td><td>8.0              </td><td>21914.0           </td><td>1.0               </td><td>151.0             </td><td>67.0             </td><td>120.0             </td><td>80.0              </td><td>2.0               </td><td>2.0               </td><td>0.0                </td><td>0.0                 </td><td>0.0               </td><td>0.0               </td></tr>\n",
              "<tr><td>6      </td><td>9.0              </td><td>22113.0           </td><td>1.0               </td><td>157.0             </td><td>93.0             </td><td>130.0             </td><td>80.0              </td><td>3.0               </td><td>1.0               </td><td>0.0                </td><td>0.0                 </td><td>1.0               </td><td>0.0               </td></tr>\n",
              "<tr><td>7      </td><td>12.0             </td><td>22584.0           </td><td>2.0               </td><td>178.0             </td><td>95.0             </td><td>130.0             </td><td>90.0              </td><td>3.0               </td><td>3.0               </td><td>0.0                </td><td>0.0                 </td><td>1.0               </td><td>1.0               </td></tr>\n",
              "<tr><td>8      </td><td>13.0             </td><td>17668.0           </td><td>1.0               </td><td>158.0             </td><td>71.0             </td><td>110.0             </td><td>70.0              </td><td>1.0               </td><td>1.0               </td><td>0.0                </td><td>0.0                 </td><td>1.0               </td><td>0.0               </td></tr>\n",
              "<tr><td>9      </td><td>14.0             </td><td>19834.0           </td><td>1.0               </td><td>164.0             </td><td>68.0             </td><td>110.0             </td><td>60.0              </td><td>1.0               </td><td>1.0               </td><td>0.0                </td><td>0.0                 </td><td>0.0               </td><td>0.0               </td></tr>\n",
              "</tbody>\n",
              "</table><pre style='font-size: smaller; margin-bottom: 1em;'>[70000 rows x 13 columns]</pre>"
            ]
          },
          "metadata": {}
        }
      ]
    },
    {
      "cell_type": "code",
      "metadata": {
        "id": "fzAValVj0Uh0"
      },
      "source": [
        "# Split into train, validation and test data\n",
        "CVD_data_train, CVD_data_test, CVD_data_valid = CVD_details_df.split_frame(ratios=[.8, .12])"
      ],
      "execution_count": null,
      "outputs": []
    },
    {
      "cell_type": "code",
      "metadata": {
        "id": "SHHiJBsU21_U",
        "outputId": "719c0615-f1e7-4456-a9ed-29eead0a747c",
        "colab": {
          "base_uri": "https://localhost:8080/",
          "height": 389
        }
      },
      "source": [
        "# Visualize train data\n",
        "CVD_data_train.head()"
      ],
      "execution_count": null,
      "outputs": [
        {
          "output_type": "execute_result",
          "data": {
            "text/plain": [
              "  id    age    gender    height    weight    ap_hi    ap_lo    cholesterol    gluc    smoke    alco    active    cardio\n",
              "----  -----  --------  --------  --------  -------  -------  -------------  ------  -------  ------  --------  --------\n",
              "   0  18393         2       168        62      110       80              1       1        0       0         1         0\n",
              "   1  20228         1       156        85      140       90              3       1        0       0         1         1\n",
              "   3  17623         2       169        82      150      100              1       1        0       0         1         1\n",
              "   4  17474         1       156        56      100       60              1       1        0       0         0         0\n",
              "   8  21914         1       151        67      120       80              2       2        0       0         0         0\n",
              "   9  22113         1       157        93      130       80              3       1        0       0         1         0\n",
              "  13  17668         1       158        71      110       70              1       1        0       0         1         0\n",
              "  14  19834         1       164        68      110       60              1       1        0       0         0         0\n",
              "  15  22530         1       169        80      120       80              1       1        0       0         1         0\n",
              "  18  14791         2       165        60      120       80              1       1        0       0         0         0\n",
              "[10 rows x 13 columns]\n"
            ],
            "text/html": [
              "<table class='dataframe'>\n",
              "<thead>\n",
              "<tr><th style=\"text-align: right;\">  id</th><th style=\"text-align: right;\">  age</th><th style=\"text-align: right;\">  gender</th><th style=\"text-align: right;\">  height</th><th style=\"text-align: right;\">  weight</th><th style=\"text-align: right;\">  ap_hi</th><th style=\"text-align: right;\">  ap_lo</th><th style=\"text-align: right;\">  cholesterol</th><th style=\"text-align: right;\">  gluc</th><th style=\"text-align: right;\">  smoke</th><th style=\"text-align: right;\">  alco</th><th style=\"text-align: right;\">  active</th><th style=\"text-align: right;\">  cardio</th></tr>\n",
              "</thead>\n",
              "<tbody>\n",
              "<tr><td style=\"text-align: right;\">   0</td><td style=\"text-align: right;\">18393</td><td style=\"text-align: right;\">       2</td><td style=\"text-align: right;\">     168</td><td style=\"text-align: right;\">      62</td><td style=\"text-align: right;\">    110</td><td style=\"text-align: right;\">     80</td><td style=\"text-align: right;\">            1</td><td style=\"text-align: right;\">     1</td><td style=\"text-align: right;\">      0</td><td style=\"text-align: right;\">     0</td><td style=\"text-align: right;\">       1</td><td style=\"text-align: right;\">       0</td></tr>\n",
              "<tr><td style=\"text-align: right;\">   1</td><td style=\"text-align: right;\">20228</td><td style=\"text-align: right;\">       1</td><td style=\"text-align: right;\">     156</td><td style=\"text-align: right;\">      85</td><td style=\"text-align: right;\">    140</td><td style=\"text-align: right;\">     90</td><td style=\"text-align: right;\">            3</td><td style=\"text-align: right;\">     1</td><td style=\"text-align: right;\">      0</td><td style=\"text-align: right;\">     0</td><td style=\"text-align: right;\">       1</td><td style=\"text-align: right;\">       1</td></tr>\n",
              "<tr><td style=\"text-align: right;\">   3</td><td style=\"text-align: right;\">17623</td><td style=\"text-align: right;\">       2</td><td style=\"text-align: right;\">     169</td><td style=\"text-align: right;\">      82</td><td style=\"text-align: right;\">    150</td><td style=\"text-align: right;\">    100</td><td style=\"text-align: right;\">            1</td><td style=\"text-align: right;\">     1</td><td style=\"text-align: right;\">      0</td><td style=\"text-align: right;\">     0</td><td style=\"text-align: right;\">       1</td><td style=\"text-align: right;\">       1</td></tr>\n",
              "<tr><td style=\"text-align: right;\">   4</td><td style=\"text-align: right;\">17474</td><td style=\"text-align: right;\">       1</td><td style=\"text-align: right;\">     156</td><td style=\"text-align: right;\">      56</td><td style=\"text-align: right;\">    100</td><td style=\"text-align: right;\">     60</td><td style=\"text-align: right;\">            1</td><td style=\"text-align: right;\">     1</td><td style=\"text-align: right;\">      0</td><td style=\"text-align: right;\">     0</td><td style=\"text-align: right;\">       0</td><td style=\"text-align: right;\">       0</td></tr>\n",
              "<tr><td style=\"text-align: right;\">   8</td><td style=\"text-align: right;\">21914</td><td style=\"text-align: right;\">       1</td><td style=\"text-align: right;\">     151</td><td style=\"text-align: right;\">      67</td><td style=\"text-align: right;\">    120</td><td style=\"text-align: right;\">     80</td><td style=\"text-align: right;\">            2</td><td style=\"text-align: right;\">     2</td><td style=\"text-align: right;\">      0</td><td style=\"text-align: right;\">     0</td><td style=\"text-align: right;\">       0</td><td style=\"text-align: right;\">       0</td></tr>\n",
              "<tr><td style=\"text-align: right;\">   9</td><td style=\"text-align: right;\">22113</td><td style=\"text-align: right;\">       1</td><td style=\"text-align: right;\">     157</td><td style=\"text-align: right;\">      93</td><td style=\"text-align: right;\">    130</td><td style=\"text-align: right;\">     80</td><td style=\"text-align: right;\">            3</td><td style=\"text-align: right;\">     1</td><td style=\"text-align: right;\">      0</td><td style=\"text-align: right;\">     0</td><td style=\"text-align: right;\">       1</td><td style=\"text-align: right;\">       0</td></tr>\n",
              "<tr><td style=\"text-align: right;\">  13</td><td style=\"text-align: right;\">17668</td><td style=\"text-align: right;\">       1</td><td style=\"text-align: right;\">     158</td><td style=\"text-align: right;\">      71</td><td style=\"text-align: right;\">    110</td><td style=\"text-align: right;\">     70</td><td style=\"text-align: right;\">            1</td><td style=\"text-align: right;\">     1</td><td style=\"text-align: right;\">      0</td><td style=\"text-align: right;\">     0</td><td style=\"text-align: right;\">       1</td><td style=\"text-align: right;\">       0</td></tr>\n",
              "<tr><td style=\"text-align: right;\">  14</td><td style=\"text-align: right;\">19834</td><td style=\"text-align: right;\">       1</td><td style=\"text-align: right;\">     164</td><td style=\"text-align: right;\">      68</td><td style=\"text-align: right;\">    110</td><td style=\"text-align: right;\">     60</td><td style=\"text-align: right;\">            1</td><td style=\"text-align: right;\">     1</td><td style=\"text-align: right;\">      0</td><td style=\"text-align: right;\">     0</td><td style=\"text-align: right;\">       0</td><td style=\"text-align: right;\">       0</td></tr>\n",
              "<tr><td style=\"text-align: right;\">  15</td><td style=\"text-align: right;\">22530</td><td style=\"text-align: right;\">       1</td><td style=\"text-align: right;\">     169</td><td style=\"text-align: right;\">      80</td><td style=\"text-align: right;\">    120</td><td style=\"text-align: right;\">     80</td><td style=\"text-align: right;\">            1</td><td style=\"text-align: right;\">     1</td><td style=\"text-align: right;\">      0</td><td style=\"text-align: right;\">     0</td><td style=\"text-align: right;\">       1</td><td style=\"text-align: right;\">       0</td></tr>\n",
              "<tr><td style=\"text-align: right;\">  18</td><td style=\"text-align: right;\">14791</td><td style=\"text-align: right;\">       2</td><td style=\"text-align: right;\">     165</td><td style=\"text-align: right;\">      60</td><td style=\"text-align: right;\">    120</td><td style=\"text-align: right;\">     80</td><td style=\"text-align: right;\">            1</td><td style=\"text-align: right;\">     1</td><td style=\"text-align: right;\">      0</td><td style=\"text-align: right;\">     0</td><td style=\"text-align: right;\">       0</td><td style=\"text-align: right;\">       0</td></tr>\n",
              "</tbody>\n",
              "</table><pre style='font-size: smaller; margin-bottom: 1em;'>[10 rows x 13 columns]</pre>"
            ]
          },
          "metadata": {},
          "execution_count": 11
        }
      ]
    },
    {
      "cell_type": "code",
      "metadata": {
        "id": "e6QvFazO5tzP"
      },
      "source": [
        "# Take necessary fields as x and y\n",
        "y = \"cardio\"\n",
        "x = CVD_details_df.columns\n",
        "x.remove(y)\n",
        "x.remove(\"id\")"
      ],
      "execution_count": null,
      "outputs": []
    },
    {
      "cell_type": "code",
      "metadata": {
        "id": "ESplmnWT570d"
      },
      "source": [
        "# Train 10 models eliminating StackedEnsemble, DeepLearning\n",
        "auto_ml = H2OAutoML(max_models = 10, seed = 10, exclude_algos = [\"StackedEnsemble\", \"DeepLearning\"], verbosity=\"info\", nfolds=0)"
      ],
      "execution_count": null,
      "outputs": []
    },
    {
      "cell_type": "code",
      "metadata": {
        "id": "fBEls6JqeH0p",
        "outputId": "730834ce-8868-4dd6-a90d-5f97e20c1bd7",
        "colab": {
          "base_uri": "https://localhost:8080/",
          "height": 1000
        }
      },
      "source": [
        "# Train the model\n",
        "auto_ml.train(x = x, y = y, training_frame = CVD_data_train, validation_frame= CVD_data_valid)"
      ],
      "execution_count": null,
      "outputs": [
        {
          "output_type": "stream",
          "name": "stdout",
          "text": [
            "AutoML progress: |\n",
            "19:31:05.246: Project: AutoML_1_20240219_193105\n",
            "19:31:05.247: Cross-validation disabled by user: no fold column nor nfolds > 1.\n",
            "19:31:05.247: Setting stopping tolerance adaptively based on the training frame: 0.004222718446862334\n",
            "19:31:05.247: Build control seed: 10\n",
            "19:31:05.248: training frame: Frame key: AutoML_1_20240219_193105_training_py_2_sid_a499    cols: 13    rows: 56081  chunks: 8    size: 822546  checksum: -7956556620632203696\n",
            "19:31:05.248: validation frame: Frame key: py_4_sid_a499    cols: 13    rows: 5605  chunks: 8    size: 84711  checksum: 1224335787674609098\n",
            "19:31:05.248: leaderboard frame: Frame key: py_4_sid_a499    cols: 13    rows: 5605  chunks: 8    size: 84711  checksum: 1224335787674609098\n",
            "19:31:05.249: blending frame: NULL\n",
            "19:31:05.249: response column: cardio\n",
            "19:31:05.249: fold column: null\n",
            "19:31:05.249: weights column: null\n",
            "19:31:05.268: Loading execution steps: [{XGBoost : [def_2 (1g, 10w), def_1 (2g, 10w), def_3 (3g, 10w), grid_1 (4g, 90w), lr_search (7g, 30w)]}, {GLM : [def_1 (1g, 10w)]}, {DRF : [def_1 (2g, 10w), XRT (3g, 10w)]}, {GBM : [def_5 (1g, 10w), def_2 (2g, 10w), def_3 (2g, 10w), def_4 (2g, 10w), def_1 (3g, 10w), grid_1 (4g, 60w), lr_annealing (7g, 10w)]}, {DeepLearning : [def_1 (3g, 10w), grid_1 (4g, 30w), grid_2 (5g, 30w), grid_3 (5g, 30w)]}, {completion : [resume_best_grids (6g, 60w)]}, {StackedEnsemble : [monotonic (9g, 10w), best_of_family_xglm (10g, 10w), all_xglm (10g, 10w)]}]\n",
            "19:31:05.305: Disabling Algo: StackedEnsemble as requested by the user.\n",
            "19:31:05.305: Disabling Algo: DeepLearning as requested by the user.\n",
            "19:31:05.306: AutoML job created: 2024.02.19 19:31:05.216\n",
            "19:31:05.307: AutoML build started: 2024.02.19 19:31:05.306\n",
            "19:31:05.332: AutoML: starting XGBoost_1_AutoML_1_20240219_193105 model training\n",
            "19:31:05.333: _response param, We have detected that your response column has only 2 unique values (0/1). If you wish to train a binary model instead of a regression model, convert your target column to categorical before training.\n",
            "\n",
            "█\n",
            "19:31:10.135: New leader: XGBoost_1_AutoML_1_20240219_193105, rmse: 0.45275567363586827\n",
            "19:31:10.141: AutoML: starting GLM_1_AutoML_1_20240219_193105 model training\n",
            "19:31:10.141: _response param, We have detected that your response column has only 2 unique values (0/1). If you wish to train a binary model instead of a regression model, convert your target column to categorical before training.\n",
            "\n",
            "█\n",
            "19:31:12.385: AutoML: starting GBM_1_AutoML_1_20240219_193105 model training\n",
            "19:31:12.386: _response param, We have detected that your response column has only 2 unique values (0/1). If you wish to train a binary model instead of a regression model, convert your target column to categorical before training.\n",
            "\n",
            "███\n",
            "19:31:19.921: New leader: GBM_1_AutoML_1_20240219_193105, rmse: 0.4317630892500859\n",
            "19:31:19.925: AutoML: starting XGBoost_2_AutoML_1_20240219_193105 model training\n",
            "19:31:19.930: _response param, We have detected that your response column has only 2 unique values (0/1). If you wish to train a binary model instead of a regression model, convert your target column to categorical before training.\n",
            "\n",
            "█\n",
            "19:31:21.937: AutoML: starting DRF_1_AutoML_1_20240219_193105 model training\n",
            "19:31:21.937: _response param, We have detected that your response column has only 2 unique values (0/1). If you wish to train a binary model instead of a regression model, convert your target column to categorical before training.\n",
            "\n",
            "████\n",
            "19:31:36.325: AutoML: starting GBM_2_AutoML_1_20240219_193105 model training\n",
            "19:31:36.326: _response param, We have detected that your response column has only 2 unique values (0/1). If you wish to train a binary model instead of a regression model, convert your target column to categorical before training.\n",
            "\n",
            "█\n",
            "19:31:41.363: New leader: GBM_2_AutoML_1_20240219_193105, rmse: 0.42980101155731165\n",
            "19:31:41.371: AutoML: starting GBM_3_AutoML_1_20240219_193105 model training\n",
            "19:31:41.375: _response param, We have detected that your response column has only 2 unique values (0/1). If you wish to train a binary model instead of a regression model, convert your target column to categorical before training.\n",
            "\n",
            "█\n",
            "19:31:45.171: AutoML: starting GBM_4_AutoML_1_20240219_193105 model training\n",
            "19:31:45.172: _response param, We have detected that your response column has only 2 unique values (0/1). If you wish to train a binary model instead of a regression model, convert your target column to categorical before training.\n",
            "\n",
            "█\n",
            "19:31:49.316: AutoML: starting XGBoost_3_AutoML_1_20240219_193105 model training\n",
            "19:31:49.317: _response param, We have detected that your response column has only 2 unique values (0/1). If you wish to train a binary model instead of a regression model, convert your target column to categorical before training.\n",
            "\n",
            "█\n",
            "19:31:50.374: AutoML: starting XRT_1_AutoML_1_20240219_193105 model training\n",
            "19:31:50.375: _response param, We have detected that your response column has only 2 unique values (0/1). If you wish to train a binary model instead of a regression model, convert your target column to categorical before training.\n",
            "\n",
            "█████\n",
            "19:32:02.965: Skipping StackedEnsemble 'monotonic' due to the exclude_algos option or it is already trained.\n",
            "19:32:02.966: Skipping StackedEnsemble 'best_of_family_xglm' due to the exclude_algos option or it is already trained.\n",
            "19:32:02.967: Skipping StackedEnsemble 'all_xglm' due to the exclude_algos option or it is already trained.\n",
            "19:32:02.967: Actual modeling steps: [{XGBoost : [def_2 (1g, 10w)]}, {GLM : [def_1 (1g, 10w)]}, {GBM : [def_5 (1g, 10w)]}, {XGBoost : [def_1 (2g, 10w)]}, {DRF : [def_1 (2g, 10w)]}, {GBM : [def_2 (2g, 10w), def_3 (2g, 10w), def_4 (2g, 10w)]}, {XGBoost : [def_3 (3g, 10w)]}, {DRF : [XRT (3g, 10w)]}]\n",
            "19:32:02.967: AutoML build stopped: 2024.02.19 19:32:02.967\n",
            "19:32:02.967: AutoML build done: built 10 models\n",
            "19:32:02.967: AutoML duration: 57.661 sec\n",
            "\n",
            "████████████████████████████████████████████| (done) 100%\n"
          ]
        },
        {
          "output_type": "execute_result",
          "data": {
            "text/plain": [
              "Model Details\n",
              "=============\n",
              "H2OGradientBoostingEstimator : Gradient Boosting Machine\n",
              "Model Key: GBM_2_AutoML_1_20240219_193105\n",
              "\n",
              "\n",
              "Model Summary: \n",
              "    number_of_trees    number_of_internal_trees    model_size_in_bytes    min_depth    max_depth    mean_depth    min_leaves    max_leaves    mean_leaves\n",
              "--  -----------------  --------------------------  ---------------------  -----------  -----------  ------------  ------------  ------------  -------------\n",
              "    50                 50                          59516                  7            7            7             44            119           90.12\n",
              "\n",
              "ModelMetricsRegression: gbm\n",
              "** Reported on train data. **\n",
              "\n",
              "MSE: 0.17106417716043495\n",
              "RMSE: 0.4135990536261356\n",
              "MAE: 0.3513858278080187\n",
              "RMSLE: 0.2907461418310724\n",
              "Mean Residual Deviance: 0.17106417716043495\n",
              "\n",
              "ModelMetricsRegression: gbm\n",
              "** Reported on validation data. **\n",
              "\n",
              "MSE: 0.18472890953568832\n",
              "RMSE: 0.42980101155731165\n",
              "MAE: 0.3657371374015232\n",
              "RMSLE: 0.3001003204467918\n",
              "Mean Residual Deviance: 0.18472890953568832\n",
              "\n",
              "Scoring History: \n",
              "    timestamp            duration    number_of_trees    training_rmse    training_mae    training_deviance    validation_rmse    validation_mae    validation_deviance\n",
              "--  -------------------  ----------  -----------------  ---------------  --------------  -------------------  -----------------  ----------------  ---------------------\n",
              "    2024-02-19 19:31:36  0.004 sec   0                  0.499999         0.499997        0.249999             0.500033           0.500032          0.250033\n",
              "    2024-02-19 19:31:36  0.474 sec   5                  0.454092         0.4461          0.2062               0.457437           0.44918           0.209249\n",
              "    2024-02-19 19:31:37  0.880 sec   10                 0.436404         0.417421        0.190449             0.442383           0.422821          0.195703\n",
              "    2024-02-19 19:31:37  1.278 sec   15                 0.427375         0.397425        0.182649             0.435749           0.404919          0.189877\n",
              "    2024-02-19 19:31:38  1.754 sec   20                 0.421633         0.38051         0.177774             0.431733           0.389557          0.186394\n",
              "    2024-02-19 19:31:38  2.356 sec   25                 0.418551         0.369191        0.175185             0.430082           0.379451          0.18497\n",
              "    2024-02-19 19:31:39  2.906 sec   30                 0.416964         0.362969        0.173859             0.429581           0.374179          0.18454\n",
              "    2024-02-19 19:31:39  3.476 sec   35                 0.415684         0.358177        0.172793             0.429466           0.37041           0.184441\n",
              "    2024-02-19 19:31:40  4.093 sec   40                 0.414791         0.3555          0.172052             0.42958            0.368659          0.184539\n",
              "    2024-02-19 19:31:40  4.539 sec   45                 0.414114         0.352814        0.17149              0.429731           0.366686          0.184669\n",
              "    2024-02-19 19:31:41  4.981 sec   50                 0.413599         0.351386        0.171064             0.429801           0.365737          0.184729\n",
              "\n",
              "Variable Importances: \n",
              "variable     relative_importance    scaled_importance    percentage\n",
              "-----------  ---------------------  -------------------  ------------\n",
              "ap_hi        11547                  1                    0.52808\n",
              "ap_lo        3392.15                0.29377              0.155134\n",
              "age          3211.83                0.278153             0.146887\n",
              "cholesterol  1608.41                0.139292             0.0735576\n",
              "weight       927.078                0.0802876            0.0423983\n",
              "height       420.998                0.0364596            0.0192536\n",
              "gluc         250.284                0.0216753            0.0114463\n",
              "active       207.898                0.0180045            0.00950782\n",
              "smoke        117.914                0.0102117            0.00539259\n",
              "gender       103.24                 0.00894085           0.00472148\n",
              "alco         79.1849                0.00685764           0.00362138\n",
              "\n",
              "[tips]\n",
              "Use `model.explain()` to inspect the model.\n",
              "--\n",
              "Use `h2o.display.toggle_user_tips()` to switch on/off this section."
            ],
            "text/html": [
              "<pre style='margin: 1em 0 1em 0;'>Model Details\n",
              "=============\n",
              "H2OGradientBoostingEstimator : Gradient Boosting Machine\n",
              "Model Key: GBM_2_AutoML_1_20240219_193105\n",
              "</pre>\n",
              "<div style='margin: 1em 0 1em 0;'>\n",
              "<style>\n",
              "\n",
              "#h2o-table-2.h2o-container {\n",
              "  overflow-x: auto;\n",
              "}\n",
              "#h2o-table-2 .h2o-table {\n",
              "  /* width: 100%; */\n",
              "  margin-top: 1em;\n",
              "  margin-bottom: 1em;\n",
              "}\n",
              "#h2o-table-2 .h2o-table caption {\n",
              "  white-space: nowrap;\n",
              "  caption-side: top;\n",
              "  text-align: left;\n",
              "  /* margin-left: 1em; */\n",
              "  margin: 0;\n",
              "  font-size: larger;\n",
              "}\n",
              "#h2o-table-2 .h2o-table thead {\n",
              "  white-space: nowrap; \n",
              "  position: sticky;\n",
              "  top: 0;\n",
              "  box-shadow: 0 -1px inset;\n",
              "}\n",
              "#h2o-table-2 .h2o-table tbody {\n",
              "  overflow: auto;\n",
              "}\n",
              "#h2o-table-2 .h2o-table th,\n",
              "#h2o-table-2 .h2o-table td {\n",
              "  text-align: right;\n",
              "  /* border: 1px solid; */\n",
              "}\n",
              "#h2o-table-2 .h2o-table tr:nth-child(even) {\n",
              "  /* background: #F5F5F5 */\n",
              "}\n",
              "\n",
              "</style>      \n",
              "<div id=\"h2o-table-2\" class=\"h2o-container\">\n",
              "  <table class=\"h2o-table\">\n",
              "    <caption>Model Summary: </caption>\n",
              "    <thead><tr><th></th>\n",
              "<th>number_of_trees</th>\n",
              "<th>number_of_internal_trees</th>\n",
              "<th>model_size_in_bytes</th>\n",
              "<th>min_depth</th>\n",
              "<th>max_depth</th>\n",
              "<th>mean_depth</th>\n",
              "<th>min_leaves</th>\n",
              "<th>max_leaves</th>\n",
              "<th>mean_leaves</th></tr></thead>\n",
              "    <tbody><tr><td></td>\n",
              "<td>50.0</td>\n",
              "<td>50.0</td>\n",
              "<td>59516.0</td>\n",
              "<td>7.0</td>\n",
              "<td>7.0</td>\n",
              "<td>7.0</td>\n",
              "<td>44.0</td>\n",
              "<td>119.0</td>\n",
              "<td>90.12</td></tr></tbody>\n",
              "  </table>\n",
              "</div>\n",
              "</div>\n",
              "<div style='margin: 1em 0 1em 0;'><pre style='margin: 1em 0 1em 0;'>ModelMetricsRegression: gbm\n",
              "** Reported on train data. **\n",
              "\n",
              "MSE: 0.17106417716043495\n",
              "RMSE: 0.4135990536261356\n",
              "MAE: 0.3513858278080187\n",
              "RMSLE: 0.2907461418310724\n",
              "Mean Residual Deviance: 0.17106417716043495</pre></div>\n",
              "<div style='margin: 1em 0 1em 0;'><pre style='margin: 1em 0 1em 0;'>ModelMetricsRegression: gbm\n",
              "** Reported on validation data. **\n",
              "\n",
              "MSE: 0.18472890953568832\n",
              "RMSE: 0.42980101155731165\n",
              "MAE: 0.3657371374015232\n",
              "RMSLE: 0.3001003204467918\n",
              "Mean Residual Deviance: 0.18472890953568832</pre></div>\n",
              "<div style='margin: 1em 0 1em 0;'>\n",
              "<style>\n",
              "\n",
              "#h2o-table-3.h2o-container {\n",
              "  overflow-x: auto;\n",
              "}\n",
              "#h2o-table-3 .h2o-table {\n",
              "  /* width: 100%; */\n",
              "  margin-top: 1em;\n",
              "  margin-bottom: 1em;\n",
              "}\n",
              "#h2o-table-3 .h2o-table caption {\n",
              "  white-space: nowrap;\n",
              "  caption-side: top;\n",
              "  text-align: left;\n",
              "  /* margin-left: 1em; */\n",
              "  margin: 0;\n",
              "  font-size: larger;\n",
              "}\n",
              "#h2o-table-3 .h2o-table thead {\n",
              "  white-space: nowrap; \n",
              "  position: sticky;\n",
              "  top: 0;\n",
              "  box-shadow: 0 -1px inset;\n",
              "}\n",
              "#h2o-table-3 .h2o-table tbody {\n",
              "  overflow: auto;\n",
              "}\n",
              "#h2o-table-3 .h2o-table th,\n",
              "#h2o-table-3 .h2o-table td {\n",
              "  text-align: right;\n",
              "  /* border: 1px solid; */\n",
              "}\n",
              "#h2o-table-3 .h2o-table tr:nth-child(even) {\n",
              "  /* background: #F5F5F5 */\n",
              "}\n",
              "\n",
              "</style>      \n",
              "<div id=\"h2o-table-3\" class=\"h2o-container\">\n",
              "  <table class=\"h2o-table\">\n",
              "    <caption>Scoring History: </caption>\n",
              "    <thead><tr><th></th>\n",
              "<th>timestamp</th>\n",
              "<th>duration</th>\n",
              "<th>number_of_trees</th>\n",
              "<th>training_rmse</th>\n",
              "<th>training_mae</th>\n",
              "<th>training_deviance</th>\n",
              "<th>validation_rmse</th>\n",
              "<th>validation_mae</th>\n",
              "<th>validation_deviance</th></tr></thead>\n",
              "    <tbody><tr><td></td>\n",
              "<td>2024-02-19 19:31:36</td>\n",
              "<td> 0.004 sec</td>\n",
              "<td>0.0</td>\n",
              "<td>0.4999987</td>\n",
              "<td>0.4999974</td>\n",
              "<td>0.2499987</td>\n",
              "<td>0.5000330</td>\n",
              "<td>0.5000317</td>\n",
              "<td>0.2500330</td></tr>\n",
              "<tr><td></td>\n",
              "<td>2024-02-19 19:31:36</td>\n",
              "<td> 0.474 sec</td>\n",
              "<td>5.0</td>\n",
              "<td>0.4540925</td>\n",
              "<td>0.4460999</td>\n",
              "<td>0.2062000</td>\n",
              "<td>0.4574372</td>\n",
              "<td>0.4491797</td>\n",
              "<td>0.2092488</td></tr>\n",
              "<tr><td></td>\n",
              "<td>2024-02-19 19:31:37</td>\n",
              "<td> 0.880 sec</td>\n",
              "<td>10.0</td>\n",
              "<td>0.4364042</td>\n",
              "<td>0.4174210</td>\n",
              "<td>0.1904486</td>\n",
              "<td>0.4423828</td>\n",
              "<td>0.4228207</td>\n",
              "<td>0.1957026</td></tr>\n",
              "<tr><td></td>\n",
              "<td>2024-02-19 19:31:37</td>\n",
              "<td> 1.278 sec</td>\n",
              "<td>15.0</td>\n",
              "<td>0.4273746</td>\n",
              "<td>0.3974247</td>\n",
              "<td>0.1826491</td>\n",
              "<td>0.4357489</td>\n",
              "<td>0.4049185</td>\n",
              "<td>0.1898771</td></tr>\n",
              "<tr><td></td>\n",
              "<td>2024-02-19 19:31:38</td>\n",
              "<td> 1.754 sec</td>\n",
              "<td>20.0</td>\n",
              "<td>0.4216325</td>\n",
              "<td>0.3805098</td>\n",
              "<td>0.1777740</td>\n",
              "<td>0.4317334</td>\n",
              "<td>0.3895568</td>\n",
              "<td>0.1863937</td></tr>\n",
              "<tr><td></td>\n",
              "<td>2024-02-19 19:31:38</td>\n",
              "<td> 2.356 sec</td>\n",
              "<td>25.0</td>\n",
              "<td>0.4185513</td>\n",
              "<td>0.3691914</td>\n",
              "<td>0.1751852</td>\n",
              "<td>0.4300817</td>\n",
              "<td>0.3794513</td>\n",
              "<td>0.1849703</td></tr>\n",
              "<tr><td></td>\n",
              "<td>2024-02-19 19:31:39</td>\n",
              "<td> 2.906 sec</td>\n",
              "<td>30.0</td>\n",
              "<td>0.4169642</td>\n",
              "<td>0.3629686</td>\n",
              "<td>0.1738592</td>\n",
              "<td>0.4295810</td>\n",
              "<td>0.3741790</td>\n",
              "<td>0.1845398</td></tr>\n",
              "<tr><td></td>\n",
              "<td>2024-02-19 19:31:39</td>\n",
              "<td> 3.476 sec</td>\n",
              "<td>35.0</td>\n",
              "<td>0.4156841</td>\n",
              "<td>0.3581774</td>\n",
              "<td>0.1727933</td>\n",
              "<td>0.4294657</td>\n",
              "<td>0.3704096</td>\n",
              "<td>0.1844408</td></tr>\n",
              "<tr><td></td>\n",
              "<td>2024-02-19 19:31:40</td>\n",
              "<td> 4.093 sec</td>\n",
              "<td>40.0</td>\n",
              "<td>0.4147911</td>\n",
              "<td>0.3554998</td>\n",
              "<td>0.1720516</td>\n",
              "<td>0.4295796</td>\n",
              "<td>0.3686591</td>\n",
              "<td>0.1845387</td></tr>\n",
              "<tr><td></td>\n",
              "<td>2024-02-19 19:31:40</td>\n",
              "<td> 4.539 sec</td>\n",
              "<td>45.0</td>\n",
              "<td>0.4141136</td>\n",
              "<td>0.3528142</td>\n",
              "<td>0.1714900</td>\n",
              "<td>0.4297315</td>\n",
              "<td>0.3666858</td>\n",
              "<td>0.1846692</td></tr>\n",
              "<tr><td></td>\n",
              "<td>2024-02-19 19:31:41</td>\n",
              "<td> 4.981 sec</td>\n",
              "<td>50.0</td>\n",
              "<td>0.4135991</td>\n",
              "<td>0.3513858</td>\n",
              "<td>0.1710642</td>\n",
              "<td>0.4298010</td>\n",
              "<td>0.3657371</td>\n",
              "<td>0.1847289</td></tr></tbody>\n",
              "  </table>\n",
              "</div>\n",
              "</div>\n",
              "<div style='margin: 1em 0 1em 0;'>\n",
              "<style>\n",
              "\n",
              "#h2o-table-4.h2o-container {\n",
              "  overflow-x: auto;\n",
              "}\n",
              "#h2o-table-4 .h2o-table {\n",
              "  /* width: 100%; */\n",
              "  margin-top: 1em;\n",
              "  margin-bottom: 1em;\n",
              "}\n",
              "#h2o-table-4 .h2o-table caption {\n",
              "  white-space: nowrap;\n",
              "  caption-side: top;\n",
              "  text-align: left;\n",
              "  /* margin-left: 1em; */\n",
              "  margin: 0;\n",
              "  font-size: larger;\n",
              "}\n",
              "#h2o-table-4 .h2o-table thead {\n",
              "  white-space: nowrap; \n",
              "  position: sticky;\n",
              "  top: 0;\n",
              "  box-shadow: 0 -1px inset;\n",
              "}\n",
              "#h2o-table-4 .h2o-table tbody {\n",
              "  overflow: auto;\n",
              "}\n",
              "#h2o-table-4 .h2o-table th,\n",
              "#h2o-table-4 .h2o-table td {\n",
              "  text-align: right;\n",
              "  /* border: 1px solid; */\n",
              "}\n",
              "#h2o-table-4 .h2o-table tr:nth-child(even) {\n",
              "  /* background: #F5F5F5 */\n",
              "}\n",
              "\n",
              "</style>      \n",
              "<div id=\"h2o-table-4\" class=\"h2o-container\">\n",
              "  <table class=\"h2o-table\">\n",
              "    <caption>Variable Importances: </caption>\n",
              "    <thead><tr><th>variable</th>\n",
              "<th>relative_importance</th>\n",
              "<th>scaled_importance</th>\n",
              "<th>percentage</th></tr></thead>\n",
              "    <tbody><tr><td>ap_hi</td>\n",
              "<td>11546.9619141</td>\n",
              "<td>1.0</td>\n",
              "<td>0.5280799</td></tr>\n",
              "<tr><td>ap_lo</td>\n",
              "<td>3392.1486816</td>\n",
              "<td>0.2937698</td>\n",
              "<td>0.1551339</td></tr>\n",
              "<tr><td>age</td>\n",
              "<td>3211.8264160</td>\n",
              "<td>0.2781534</td>\n",
              "<td>0.1468872</td></tr>\n",
              "<tr><td>cholesterol</td>\n",
              "<td>1608.4050293</td>\n",
              "<td>0.1392925</td>\n",
              "<td>0.0735576</td></tr>\n",
              "<tr><td>weight</td>\n",
              "<td>927.0776978</td>\n",
              "<td>0.0802876</td>\n",
              "<td>0.0423983</td></tr>\n",
              "<tr><td>height</td>\n",
              "<td>420.9979858</td>\n",
              "<td>0.0364596</td>\n",
              "<td>0.0192536</td></tr>\n",
              "<tr><td>gluc</td>\n",
              "<td>250.2841187</td>\n",
              "<td>0.0216753</td>\n",
              "<td>0.0114463</td></tr>\n",
              "<tr><td>active</td>\n",
              "<td>207.8975067</td>\n",
              "<td>0.0180045</td>\n",
              "<td>0.0095078</td></tr>\n",
              "<tr><td>smoke</td>\n",
              "<td>117.9139709</td>\n",
              "<td>0.0102117</td>\n",
              "<td>0.0053926</td></tr>\n",
              "<tr><td>gender</td>\n",
              "<td>103.2396698</td>\n",
              "<td>0.0089409</td>\n",
              "<td>0.0047215</td></tr>\n",
              "<tr><td>alco</td>\n",
              "<td>79.1848755</td>\n",
              "<td>0.0068576</td>\n",
              "<td>0.0036214</td></tr></tbody>\n",
              "  </table>\n",
              "</div>\n",
              "</div><pre style=\"font-size: smaller; margin: 1em 0 0 0;\">\n",
              "\n",
              "[tips]\n",
              "Use `model.explain()` to inspect the model.\n",
              "--\n",
              "Use `h2o.display.toggle_user_tips()` to switch on/off this section.</pre>"
            ]
          },
          "metadata": {},
          "execution_count": 14
        }
      ]
    },
    {
      "cell_type": "code",
      "metadata": {
        "id": "ALlZEBNd68Nm"
      },
      "source": [
        "# Get leader board to analysis performance of models\n",
        "lb = auto_ml.leaderboard"
      ],
      "execution_count": null,
      "outputs": []
    },
    {
      "cell_type": "code",
      "metadata": {
        "id": "x-bfxNwL6-2l",
        "outputId": "c6e23e9d-b8cd-452e-dcad-7e2263f57711",
        "colab": {
          "base_uri": "https://localhost:8080/",
          "height": 389
        }
      },
      "source": [
        "lb.head()"
      ],
      "execution_count": null,
      "outputs": [
        {
          "output_type": "execute_result",
          "data": {
            "text/plain": [
              "model_id                                rmse       mse       mae     rmsle    mean_residual_deviance\n",
              "----------------------------------  --------  --------  --------  --------  ------------------------\n",
              "GBM_2_AutoML_1_20240219_193105      0.429801  0.184729  0.365737  0.3001                    0.184729\n",
              "GBM_3_AutoML_1_20240219_193105      0.430213  0.185083  0.36582   0.300322                  0.185083\n",
              "XGBoost_3_AutoML_1_20240219_193105  0.430251  0.185116  0.363874  0.300304                  0.185116\n",
              "GBM_1_AutoML_1_20240219_193105      0.431763  0.186419  0.367042  0.301469                  0.186419\n",
              "GBM_4_AutoML_1_20240219_193105      0.432531  0.187083  0.366437  0.30166                   0.187083\n",
              "XRT_1_AutoML_1_20240219_193105      0.433832  0.18821   0.379642  0.303181                  0.18821\n",
              "DRF_1_AutoML_1_20240219_193105      0.437044  0.191008  0.367867  0.304787                  0.191008\n",
              "XGBoost_2_AutoML_1_20240219_193105  0.440316  0.193878  0.365802  0.306596                  0.193878\n",
              "XGBoost_1_AutoML_1_20240219_193105  0.452756  0.204988  0.371714  0.31466                   0.204988\n",
              "GLM_1_AutoML_1_20240219_193105      0.472358  0.223122  0.447504  0.329942                  0.223122\n",
              "[10 rows x 6 columns]\n"
            ],
            "text/html": [
              "<table class='dataframe'>\n",
              "<thead>\n",
              "<tr><th>model_id                          </th><th style=\"text-align: right;\">    rmse</th><th style=\"text-align: right;\">     mse</th><th style=\"text-align: right;\">     mae</th><th style=\"text-align: right;\">   rmsle</th><th style=\"text-align: right;\">  mean_residual_deviance</th></tr>\n",
              "</thead>\n",
              "<tbody>\n",
              "<tr><td>GBM_2_AutoML_1_20240219_193105    </td><td style=\"text-align: right;\">0.429801</td><td style=\"text-align: right;\">0.184729</td><td style=\"text-align: right;\">0.365737</td><td style=\"text-align: right;\">0.3001  </td><td style=\"text-align: right;\">                0.184729</td></tr>\n",
              "<tr><td>GBM_3_AutoML_1_20240219_193105    </td><td style=\"text-align: right;\">0.430213</td><td style=\"text-align: right;\">0.185083</td><td style=\"text-align: right;\">0.36582 </td><td style=\"text-align: right;\">0.300322</td><td style=\"text-align: right;\">                0.185083</td></tr>\n",
              "<tr><td>XGBoost_3_AutoML_1_20240219_193105</td><td style=\"text-align: right;\">0.430251</td><td style=\"text-align: right;\">0.185116</td><td style=\"text-align: right;\">0.363874</td><td style=\"text-align: right;\">0.300304</td><td style=\"text-align: right;\">                0.185116</td></tr>\n",
              "<tr><td>GBM_1_AutoML_1_20240219_193105    </td><td style=\"text-align: right;\">0.431763</td><td style=\"text-align: right;\">0.186419</td><td style=\"text-align: right;\">0.367042</td><td style=\"text-align: right;\">0.301469</td><td style=\"text-align: right;\">                0.186419</td></tr>\n",
              "<tr><td>GBM_4_AutoML_1_20240219_193105    </td><td style=\"text-align: right;\">0.432531</td><td style=\"text-align: right;\">0.187083</td><td style=\"text-align: right;\">0.366437</td><td style=\"text-align: right;\">0.30166 </td><td style=\"text-align: right;\">                0.187083</td></tr>\n",
              "<tr><td>XRT_1_AutoML_1_20240219_193105    </td><td style=\"text-align: right;\">0.433832</td><td style=\"text-align: right;\">0.18821 </td><td style=\"text-align: right;\">0.379642</td><td style=\"text-align: right;\">0.303181</td><td style=\"text-align: right;\">                0.18821 </td></tr>\n",
              "<tr><td>DRF_1_AutoML_1_20240219_193105    </td><td style=\"text-align: right;\">0.437044</td><td style=\"text-align: right;\">0.191008</td><td style=\"text-align: right;\">0.367867</td><td style=\"text-align: right;\">0.304787</td><td style=\"text-align: right;\">                0.191008</td></tr>\n",
              "<tr><td>XGBoost_2_AutoML_1_20240219_193105</td><td style=\"text-align: right;\">0.440316</td><td style=\"text-align: right;\">0.193878</td><td style=\"text-align: right;\">0.365802</td><td style=\"text-align: right;\">0.306596</td><td style=\"text-align: right;\">                0.193878</td></tr>\n",
              "<tr><td>XGBoost_1_AutoML_1_20240219_193105</td><td style=\"text-align: right;\">0.452756</td><td style=\"text-align: right;\">0.204988</td><td style=\"text-align: right;\">0.371714</td><td style=\"text-align: right;\">0.31466 </td><td style=\"text-align: right;\">                0.204988</td></tr>\n",
              "<tr><td>GLM_1_AutoML_1_20240219_193105    </td><td style=\"text-align: right;\">0.472358</td><td style=\"text-align: right;\">0.223122</td><td style=\"text-align: right;\">0.447504</td><td style=\"text-align: right;\">0.329942</td><td style=\"text-align: right;\">                0.223122</td></tr>\n",
              "</tbody>\n",
              "</table><pre style='font-size: smaller; margin-bottom: 1em;'>[10 rows x 6 columns]</pre>"
            ]
          },
          "metadata": {},
          "execution_count": 16
        }
      ]
    },
    {
      "cell_type": "code",
      "metadata": {
        "id": "lob8HRvc4bwq",
        "outputId": "9c2b0e03-1954-4fbb-f5f1-7c67c1efe028",
        "colab": {
          "base_uri": "https://localhost:8080/"
        }
      },
      "source": [
        "# Predictions\n",
        "CVD_pred = auto_ml.leader.predict(CVD_data_test)"
      ],
      "execution_count": null,
      "outputs": [
        {
          "output_type": "stream",
          "name": "stdout",
          "text": [
            "gbm prediction progress: |███████████████████████████████████████████████████████| (done) 100%\n"
          ]
        }
      ]
    },
    {
      "cell_type": "code",
      "metadata": {
        "id": "jX50NC-L5NJR",
        "outputId": "dba41db4-adb0-4e41-bc9b-ef76fd999a16",
        "colab": {
          "base_uri": "https://localhost:8080/",
          "height": 389
        }
      },
      "source": [
        "CVD_pred.head()"
      ],
      "execution_count": null,
      "outputs": [
        {
          "output_type": "execute_result",
          "data": {
            "text/plain": [
              "  predict\n",
              "---------\n",
              " 0.715294\n",
              " 0.753954\n",
              " 0.259143\n",
              " 0.500102\n",
              " 0.543172\n",
              " 0.1145\n",
              " 0.291172\n",
              " 0.464829\n",
              " 0.473906\n",
              " 0.294014\n",
              "[10 rows x 1 column]\n"
            ],
            "text/html": [
              "<table class='dataframe'>\n",
              "<thead>\n",
              "<tr><th style=\"text-align: right;\">  predict</th></tr>\n",
              "</thead>\n",
              "<tbody>\n",
              "<tr><td style=\"text-align: right;\"> 0.715294</td></tr>\n",
              "<tr><td style=\"text-align: right;\"> 0.753954</td></tr>\n",
              "<tr><td style=\"text-align: right;\"> 0.259143</td></tr>\n",
              "<tr><td style=\"text-align: right;\"> 0.500102</td></tr>\n",
              "<tr><td style=\"text-align: right;\"> 0.543172</td></tr>\n",
              "<tr><td style=\"text-align: right;\"> 0.1145  </td></tr>\n",
              "<tr><td style=\"text-align: right;\"> 0.291172</td></tr>\n",
              "<tr><td style=\"text-align: right;\"> 0.464829</td></tr>\n",
              "<tr><td style=\"text-align: right;\"> 0.473906</td></tr>\n",
              "<tr><td style=\"text-align: right;\"> 0.294014</td></tr>\n",
              "</tbody>\n",
              "</table><pre style='font-size: smaller; margin-bottom: 1em;'>[10 rows x 1 column]</pre>"
            ]
          },
          "metadata": {},
          "execution_count": 18
        }
      ]
    },
    {
      "cell_type": "code",
      "metadata": {
        "id": "GVTyHEfe6whc",
        "outputId": "1300514f-02bd-4f7b-bc1d-72d512de85ed",
        "colab": {
          "base_uri": "https://localhost:8080/",
          "height": 184
        }
      },
      "source": [
        "# Best model for predictions\n",
        "auto_ml.leader.model_performance(CVD_data_test)"
      ],
      "execution_count": null,
      "outputs": [
        {
          "output_type": "execute_result",
          "data": {
            "text/plain": [
              "ModelMetricsRegression: gbm\n",
              "** Reported on test data. **\n",
              "\n",
              "MSE: 0.18159618649329531\n",
              "RMSE: 0.426141040611316\n",
              "MAE: 0.3621918019786763\n",
              "RMSLE: 0.29937556253432535\n",
              "Mean Residual Deviance: 0.18159618649329531"
            ],
            "text/html": [
              "<pre style='margin: 1em 0 1em 0;'>ModelMetricsRegression: gbm\n",
              "** Reported on test data. **\n",
              "\n",
              "MSE: 0.18159618649329531\n",
              "RMSE: 0.426141040611316\n",
              "MAE: 0.3621918019786763\n",
              "RMSLE: 0.29937556253432535\n",
              "Mean Residual Deviance: 0.18159618649329531</pre>"
            ]
          },
          "metadata": {},
          "execution_count": 19
        }
      ]
    },
    {
      "cell_type": "code",
      "metadata": {
        "id": "kl3m9BrA8whW",
        "colab": {
          "base_uri": "https://localhost:8080/"
        },
        "outputId": "5d61ca71-b10c-471f-ffee-c7554032e202"
      },
      "source": [
        "# Get model ids\n",
        "model_ids = list(auto_ml.leaderboard['model_id'].as_data_frame().iloc[:,0])"
      ],
      "execution_count": null,
      "outputs": [
        {
          "output_type": "stream",
          "name": "stdout",
          "text": [
            "Export File progress: |██████████████████████████████████████████████████████████| (done) 100%\n"
          ]
        }
      ]
    },
    {
      "cell_type": "code",
      "metadata": {
        "id": "S_7RYNenT527",
        "outputId": "14fe8230-6634-47ce-8396-06629098c70f",
        "colab": {
          "base_uri": "https://localhost:8080/"
        }
      },
      "source": [
        "model_ids"
      ],
      "execution_count": null,
      "outputs": [
        {
          "output_type": "execute_result",
          "data": {
            "text/plain": [
              "['GBM_2_AutoML_1_20240219_193105',\n",
              " 'GBM_3_AutoML_1_20240219_193105',\n",
              " 'XGBoost_3_AutoML_1_20240219_193105',\n",
              " 'GBM_1_AutoML_1_20240219_193105',\n",
              " 'GBM_4_AutoML_1_20240219_193105',\n",
              " 'XRT_1_AutoML_1_20240219_193105',\n",
              " 'DRF_1_AutoML_1_20240219_193105',\n",
              " 'XGBoost_2_AutoML_1_20240219_193105',\n",
              " 'XGBoost_1_AutoML_1_20240219_193105',\n",
              " 'GLM_1_AutoML_1_20240219_193105']"
            ]
          },
          "metadata": {},
          "execution_count": 21
        }
      ]
    },
    {
      "cell_type": "code",
      "metadata": {
        "id": "JGqA2fD7fJS7"
      },
      "source": [
        "# Get the output model\n",
        "out_gbm = h2o.get_model([mid for mid in model_ids if \"GBM\" in mid][0])"
      ],
      "execution_count": null,
      "outputs": []
    },
    {
      "cell_type": "code",
      "metadata": {
        "id": "WzYCf-itPIf_",
        "outputId": "014c9254-0b54-47ec-d594-9d62b1ba4cb4",
        "colab": {
          "base_uri": "https://localhost:8080/",
          "height": 896
        }
      },
      "source": [
        "# Plot varible importance\n",
        "out_gbm.varimp_plot()"
      ],
      "execution_count": null,
      "outputs": [
        {
          "output_type": "display_data",
          "data": {
            "text/plain": [
              "<Figure size 1400x1000 with 1 Axes>"
            ],
            "image/png": "[encoded data removed]"
          },
          "metadata": {}
        },
        {
          "output_type": "execute_result",
          "data": {
            "text/plain": [
              "<h2o.plot._plot_result._MObject at 0x7c580120d150>"
            ]
          },
          "metadata": {},
          "execution_count": 23
        },
        {
          "output_type": "display_data",
          "data": {
            "text/plain": [
              "<Figure size 640x480 with 0 Axes>"
            ]
          },
          "metadata": {}
        }
      ]
    },
    {
      "cell_type": "code",
      "metadata": {
        "id": "mzfOwj0vwmW4",
        "outputId": "bb2ce77b-8b29-4dd6-c3a6-aaa2b3bb0fb8",
        "colab": {
          "base_uri": "https://localhost:8080/",
          "height": 36
        }
      },
      "source": [
        "# Save the best model as a mojo\n",
        "auto_ml.leader.download_mojo(path = \"/content/drive/MyDrive/Machine Learning/CVD\")"
      ],
      "execution_count": null,
      "outputs": [
        {
          "output_type": "execute_result",
          "data": {
            "text/plain": [
              "'/content/drive/MyDrive/Machine Learning/CVD'"
            ],
            "application/vnd.google.colaboratory.intrinsic+json": {
              "type": "string"
            }
          },
          "metadata": {},
          "execution_count": 24
        }
      ]
    }
  ]
}