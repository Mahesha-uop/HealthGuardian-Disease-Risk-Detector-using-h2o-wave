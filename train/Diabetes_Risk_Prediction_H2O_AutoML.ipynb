{
  "nbformat": 4,
  "nbformat_minor": 0,
  "metadata": {
    "colab": {
      "provenance": [],
      "include_colab_link": true
    },
    "kernelspec": {
      "name": "python3",
      "display_name": "Python 3"
    },
    "accelerator": "GPU"
  },
  "cells": [
    {
      "cell_type": "markdown",
      "metadata": {
        "id": "view-in-github",
        "colab_type": "text"
      },
      "source": [
        "<a href=\"https://colab.research.google.com/github/Mahesha-uop/HealthGuardian-Disease-Risk-Detector-using-h2o-wave/blob/main/train/Diabetes_Risk_Prediction_H2O_AutoML.ipynb\" target=\"_parent\"><img src=\"https://colab.research.google.com/assets/colab-badge.svg\" alt=\"Open In Colab\"/></a>"
      ]
    },
    {
      "cell_type": "code",
      "metadata": {
        "id": "0GA_-zrlpEa5",
        "outputId": "ec254eff-fcea-406a-ecd0-587051fbb90a",
        "colab": {
          "base_uri": "https://localhost:8080/"
        }
      },
      "source": [
        "!apt-get install default-jre\n",
        "!java -version"
      ],
      "execution_count": null,
      "outputs": [
        {
          "output_type": "stream",
          "name": "stdout",
          "text": [
            "Reading package lists... Done\n",
            "Building dependency tree... Done\n",
            "Reading state information... Done\n",
            "The following additional packages will be installed:\n",
            "  default-jre-headless fonts-dejavu-core fonts-dejavu-extra libatk-wrapper-java\n",
            "  libatk-wrapper-java-jni libfontenc1 libxkbfile1 libxtst6 libxxf86dga1 openjdk-11-jre x11-utils\n",
            "Suggested packages:\n",
            "  mesa-utils\n",
            "The following NEW packages will be installed:\n",
            "  default-jre default-jre-headless fonts-dejavu-core fonts-dejavu-extra libatk-wrapper-java\n",
            "  libatk-wrapper-java-jni libfontenc1 libxkbfile1 libxtst6 libxxf86dga1 openjdk-11-jre x11-utils\n",
            "0 upgraded, 12 newly installed, 0 to remove and 33 not upgraded.\n",
            "Need to get 3,720 kB of archives.\n",
            "After this operation, 12.7 MB of additional disk space will be used.\n",
            "Get:1 http://archive.ubuntu.com/ubuntu jammy/main amd64 default-jre-headless amd64 2:1.11-72build2 [3,042 B]\n",
            "Get:2 http://archive.ubuntu.com/ubuntu jammy/main amd64 libxtst6 amd64 2:1.2.3-1build4 [13.4 kB]\n",
            "Get:3 http://archive.ubuntu.com/ubuntu jammy-updates/main amd64 openjdk-11-jre amd64 11.0.21+9-0ubuntu1~22.04 [214 kB]\n",
            "Get:4 http://archive.ubuntu.com/ubuntu jammy/main amd64 default-jre amd64 2:1.11-72build2 [896 B]\n",
            "Get:5 http://archive.ubuntu.com/ubuntu jammy/main amd64 fonts-dejavu-core all 2.37-2build1 [1,041 kB]\n",
            "Get:6 http://archive.ubuntu.com/ubuntu jammy/main amd64 fonts-dejavu-extra all 2.37-2build1 [2,041 kB]\n",
            "Get:7 http://archive.ubuntu.com/ubuntu jammy/main amd64 libfontenc1 amd64 1:1.1.4-1build3 [14.7 kB]\n",
            "Get:8 http://archive.ubuntu.com/ubuntu jammy/main amd64 libxkbfile1 amd64 1:1.1.0-1build3 [71.8 kB]\n",
            "Get:9 http://archive.ubuntu.com/ubuntu jammy/main amd64 libxxf86dga1 amd64 2:1.1.5-0ubuntu3 [12.6 kB]\n",
            "Get:10 http://archive.ubuntu.com/ubuntu jammy/main amd64 x11-utils amd64 7.7+5build2 [206 kB]\n",
            "Get:11 http://archive.ubuntu.com/ubuntu jammy/main amd64 libatk-wrapper-java all 0.38.0-5build1 [53.1 kB]\n",
            "Get:12 http://archive.ubuntu.com/ubuntu jammy/main amd64 libatk-wrapper-java-jni amd64 0.38.0-5build1 [49.0 kB]\n",
            "Fetched 3,720 kB in 1s (4,055 kB/s)\n",
            "Selecting previously unselected package default-jre-headless.\n",
            "(Reading database ... 121749 files and directories currently installed.)\n",
            "Preparing to unpack .../00-default-jre-headless_2%3a1.11-72build2_amd64.deb ...\n",
            "Unpacking default-jre-headless (2:1.11-72build2) ...\n",
            "Selecting previously unselected package libxtst6:amd64.\n",
            "Preparing to unpack .../01-libxtst6_2%3a1.2.3-1build4_amd64.deb ...\n",
            "Unpacking libxtst6:amd64 (2:1.2.3-1build4) ...\n",
            "Selecting previously unselected package openjdk-11-jre:amd64.\n",
            "Preparing to unpack .../02-openjdk-11-jre_11.0.21+9-0ubuntu1~22.04_amd64.deb ...\n",
            "Unpacking openjdk-11-jre:amd64 (11.0.21+9-0ubuntu1~22.04) ...\n",
            "Selecting previously unselected package default-jre.\n",
            "Preparing to unpack .../03-default-jre_2%3a1.11-72build2_amd64.deb ...\n",
            "Unpacking default-jre (2:1.11-72build2) ...\n",
            "Selecting previously unselected package fonts-dejavu-core.\n",
            "Preparing to unpack .../04-fonts-dejavu-core_2.37-2build1_all.deb ...\n",
            "Unpacking fonts-dejavu-core (2.37-2build1) ...\n",
            "Selecting previously unselected package fonts-dejavu-extra.\n",
            "Preparing to unpack .../05-fonts-dejavu-extra_2.37-2build1_all.deb ...\n",
            "Unpacking fonts-dejavu-extra (2.37-2build1) ...\n",
            "Selecting previously unselected package libfontenc1:amd64.\n",
            "Preparing to unpack .../06-libfontenc1_1%3a1.1.4-1build3_amd64.deb ...\n",
            "Unpacking libfontenc1:amd64 (1:1.1.4-1build3) ...\n",
            "Selecting previously unselected package libxkbfile1:amd64.\n",
            "Preparing to unpack .../07-libxkbfile1_1%3a1.1.0-1build3_amd64.deb ...\n",
            "Unpacking libxkbfile1:amd64 (1:1.1.0-1build3) ...\n",
            "Selecting previously unselected package libxxf86dga1:amd64.\n",
            "Preparing to unpack .../08-libxxf86dga1_2%3a1.1.5-0ubuntu3_amd64.deb ...\n",
            "Unpacking libxxf86dga1:amd64 (2:1.1.5-0ubuntu3) ...\n",
            "Selecting previously unselected package x11-utils.\n",
            "Preparing to unpack .../09-x11-utils_7.7+5build2_amd64.deb ...\n",
            "Unpacking x11-utils (7.7+5build2) ...\n",
            "Selecting previously unselected package libatk-wrapper-java.\n",
            "Preparing to unpack .../10-libatk-wrapper-java_0.38.0-5build1_all.deb ...\n",
            "Unpacking libatk-wrapper-java (0.38.0-5build1) ...\n",
            "Selecting previously unselected package libatk-wrapper-java-jni:amd64.\n",
            "Preparing to unpack .../11-libatk-wrapper-java-jni_0.38.0-5build1_amd64.deb ...\n",
            "Unpacking libatk-wrapper-java-jni:amd64 (0.38.0-5build1) ...\n",
            "Setting up default-jre-headless (2:1.11-72build2) ...\n",
            "Setting up libxtst6:amd64 (2:1.2.3-1build4) ...\n",
            "Setting up libxxf86dga1:amd64 (2:1.1.5-0ubuntu3) ...\n",
            "Setting up openjdk-11-jre:amd64 (11.0.21+9-0ubuntu1~22.04) ...\n",
            "Setting up default-jre (2:1.11-72build2) ...\n",
            "Setting up libfontenc1:amd64 (1:1.1.4-1build3) ...\n",
            "Setting up fonts-dejavu-core (2.37-2build1) ...\n",
            "Setting up fonts-dejavu-extra (2.37-2build1) ...\n",
            "Setting up libxkbfile1:amd64 (1:1.1.0-1build3) ...\n",
            "Setting up x11-utils (7.7+5build2) ...\n",
            "Setting up libatk-wrapper-java (0.38.0-5build1) ...\n",
            "Setting up libatk-wrapper-java-jni:amd64 (0.38.0-5build1) ...\n",
            "Processing triggers for hicolor-icon-theme (0.17-2) ...\n",
            "Processing triggers for libc-bin (2.35-0ubuntu3.4) ...\n",
            "/sbin/ldconfig.real: /usr/local/lib/libtbbmalloc.so.2 is not a symbolic link\n",
            "\n",
            "/sbin/ldconfig.real: /usr/local/lib/libtbbmalloc_proxy.so.2 is not a symbolic link\n",
            "\n",
            "/sbin/ldconfig.real: /usr/local/lib/libtbb.so.12 is not a symbolic link\n",
            "\n",
            "/sbin/ldconfig.real: /usr/local/lib/libtbbbind.so.3 is not a symbolic link\n",
            "\n",
            "/sbin/ldconfig.real: /usr/local/lib/libtbbbind_2_0.so.3 is not a symbolic link\n",
            "\n",
            "/sbin/ldconfig.real: /usr/local/lib/libtbbbind_2_5.so.3 is not a symbolic link\n",
            "\n",
            "Processing triggers for man-db (2.10.2-1) ...\n",
            "Processing triggers for fontconfig (2.13.1-4.2ubuntu5) ...\n",
            "openjdk version \"11.0.21\" 2023-10-17\n",
            "OpenJDK Runtime Environment (build 11.0.21+9-post-Ubuntu-0ubuntu122.04)\n",
            "OpenJDK 64-Bit Server VM (build 11.0.21+9-post-Ubuntu-0ubuntu122.04, mixed mode, sharing)\n"
          ]
        }
      ]
    },
    {
      "cell_type": "code",
      "source": [
        "# If using google drive to have the dataset\n",
        "from google.colab import drive\n",
        "drive.mount('/content/drive')"
      ],
      "metadata": {
        "colab": {
          "base_uri": "https://localhost:8080/"
        },
        "id": "wZEOZv_Kn-lW",
        "outputId": "7ec03581-ede7-41cf-c567-cba05831557f"
      },
      "execution_count": null,
      "outputs": [
        {
          "output_type": "stream",
          "name": "stdout",
          "text": [
            "Mounted at /content/drive\n"
          ]
        }
      ]
    },
    {
      "cell_type": "code",
      "metadata": {
        "id": "eHZ8z6iGzZew",
        "outputId": "91357d66-9dd2-407e-a9ac-b854c4dfd260",
        "colab": {
          "base_uri": "https://localhost:8080/"
        }
      },
      "source": [
        "# Install h2o if haven't installed\n",
        "!pip install h2o"
      ],
      "execution_count": null,
      "outputs": [
        {
          "output_type": "stream",
          "name": "stdout",
          "text": [
            "Collecting h2o\n",
            "  Downloading h2o-3.44.0.3.tar.gz (265.2 MB)\n",
            "\u001b[2K     \u001b[90m━━━━━━━━━━━━━━━━━━━━━━━━━━━━━━━━━━━━━━━━\u001b[0m \u001b[32m265.2/265.2 MB\u001b[0m \u001b[31m5.2 MB/s\u001b[0m eta \u001b[36m0:00:00\u001b[0m\n",
            "\u001b[?25h  Preparing metadata (setup.py) ... \u001b[?25l\u001b[?25hdone\n",
            "Requirement already satisfied: requests in /usr/local/lib/python3.10/dist-packages (from h2o) (2.31.0)\n",
            "Requirement already satisfied: tabulate in /usr/local/lib/python3.10/dist-packages (from h2o) (0.9.0)\n",
            "Requirement already satisfied: charset-normalizer<4,>=2 in /usr/local/lib/python3.10/dist-packages (from requests->h2o) (3.3.2)\n",
            "Requirement already satisfied: idna<4,>=2.5 in /usr/local/lib/python3.10/dist-packages (from requests->h2o) (3.6)\n",
            "Requirement already satisfied: urllib3<3,>=1.21.1 in /usr/local/lib/python3.10/dist-packages (from requests->h2o) (2.0.7)\n",
            "Requirement already satisfied: certifi>=2017.4.17 in /usr/local/lib/python3.10/dist-packages (from requests->h2o) (2024.2.2)\n",
            "Building wheels for collected packages: h2o\n",
            "  Building wheel for h2o (setup.py) ... \u001b[?25l\u001b[?25hdone\n",
            "  Created wheel for h2o: filename=h2o-3.44.0.3-py2.py3-none-any.whl size=265293968 sha256=10b0a8fc9dd2ca47953f5a2508b8b6e2801d48ff1d4667e25c61cdb5a4025bbf\n",
            "  Stored in directory: /root/.cache/pip/wheels/77/9a/1c/2da26f943fd46b57f3c20b54847b936b9152b831dc7447cf71\n",
            "Successfully built h2o\n",
            "Installing collected packages: h2o\n",
            "Successfully installed h2o-3.44.0.3\n"
          ]
        }
      ]
    },
    {
      "cell_type": "code",
      "metadata": {
        "id": "m0g8oq01zcgM"
      },
      "source": [
        " # Import necessary libraries from h2o\n",
        " import h2o\n",
        " from h2o.automl import H2OAutoML"
      ],
      "execution_count": null,
      "outputs": []
    },
    {
      "cell_type": "code",
      "metadata": {
        "id": "z2WAtRd4zixl",
        "outputId": "dcca6c8f-8905-4284-f8b6-2fc9e4ec0973",
        "colab": {
          "base_uri": "https://localhost:8080/",
          "height": 532
        }
      },
      "source": [
        "# Check instance of H2O\n",
        "h2o.init()"
      ],
      "execution_count": null,
      "outputs": [
        {
          "output_type": "stream",
          "name": "stdout",
          "text": [
            "Checking whether there is an H2O instance running at http://localhost:54321..... not found.\n",
            "Attempting to start a local H2O server...\n",
            "  Java Version: openjdk version \"11.0.21\" 2023-10-17; OpenJDK Runtime Environment (build 11.0.21+9-post-Ubuntu-0ubuntu122.04); OpenJDK 64-Bit Server VM (build 11.0.21+9-post-Ubuntu-0ubuntu122.04, mixed mode, sharing)\n",
            "  Starting server from /usr/local/lib/python3.10/dist-packages/h2o/backend/bin/h2o.jar\n",
            "  Ice root: /tmp/tmp8mqmldoh\n",
            "  JVM stdout: /tmp/tmp8mqmldoh/h2o_unknownUser_started_from_python.out\n",
            "  JVM stderr: /tmp/tmp8mqmldoh/h2o_unknownUser_started_from_python.err\n",
            "  Server is running at http://127.0.0.1:54321\n",
            "Connecting to H2O server at http://127.0.0.1:54321 ... successful.\n"
          ]
        },
        {
          "output_type": "display_data",
          "data": {
            "text/plain": [
              "--------------------------  -----------------------------------------------------------------------------------------\n",
              "H2O_cluster_uptime:         05 secs\n",
              "H2O_cluster_timezone:       Etc/UTC\n",
              "H2O_data_parsing_timezone:  UTC\n",
              "H2O_cluster_version:        3.44.0.3\n",
              "H2O_cluster_version_age:    1 month and 30 days\n",
              "H2O_cluster_name:           H2O_from_python_unknownUser_xw9yvu\n",
              "H2O_cluster_total_nodes:    1\n",
              "H2O_cluster_free_memory:    3.170 Gb\n",
              "H2O_cluster_total_cores:    2\n",
              "H2O_cluster_allowed_cores:  2\n",
              "H2O_cluster_status:         locked, healthy\n",
              "H2O_connection_url:         http://127.0.0.1:54321\n",
              "H2O_connection_proxy:       {\"http\": null, \"https\": null, \"colab_language_server\": \"/usr/colab/bin/language_service\"}\n",
              "H2O_internal_security:      False\n",
              "Python_version:             3.10.12 final\n",
              "--------------------------  -----------------------------------------------------------------------------------------"
            ],
            "text/html": [
              "\n",
              "<style>\n",
              "\n",
              "#h2o-table-1.h2o-container {\n",
              "  overflow-x: auto;\n",
              "}\n",
              "#h2o-table-1 .h2o-table {\n",
              "  /* width: 100%; */\n",
              "  margin-top: 1em;\n",
              "  margin-bottom: 1em;\n",
              "}\n",
              "#h2o-table-1 .h2o-table caption {\n",
              "  white-space: nowrap;\n",
              "  caption-side: top;\n",
              "  text-align: left;\n",
              "  /* margin-left: 1em; */\n",
              "  margin: 0;\n",
              "  font-size: larger;\n",
              "}\n",
              "#h2o-table-1 .h2o-table thead {\n",
              "  white-space: nowrap; \n",
              "  position: sticky;\n",
              "  top: 0;\n",
              "  box-shadow: 0 -1px inset;\n",
              "}\n",
              "#h2o-table-1 .h2o-table tbody {\n",
              "  overflow: auto;\n",
              "}\n",
              "#h2o-table-1 .h2o-table th,\n",
              "#h2o-table-1 .h2o-table td {\n",
              "  text-align: right;\n",
              "  /* border: 1px solid; */\n",
              "}\n",
              "#h2o-table-1 .h2o-table tr:nth-child(even) {\n",
              "  /* background: #F5F5F5 */\n",
              "}\n",
              "\n",
              "</style>      \n",
              "<div id=\"h2o-table-1\" class=\"h2o-container\">\n",
              "  <table class=\"h2o-table\">\n",
              "    <caption></caption>\n",
              "    <thead></thead>\n",
              "    <tbody><tr><td>H2O_cluster_uptime:</td>\n",
              "<td>05 secs</td></tr>\n",
              "<tr><td>H2O_cluster_timezone:</td>\n",
              "<td>Etc/UTC</td></tr>\n",
              "<tr><td>H2O_data_parsing_timezone:</td>\n",
              "<td>UTC</td></tr>\n",
              "<tr><td>H2O_cluster_version:</td>\n",
              "<td>3.44.0.3</td></tr>\n",
              "<tr><td>H2O_cluster_version_age:</td>\n",
              "<td>1 month and 30 days</td></tr>\n",
              "<tr><td>H2O_cluster_name:</td>\n",
              "<td>H2O_from_python_unknownUser_xw9yvu</td></tr>\n",
              "<tr><td>H2O_cluster_total_nodes:</td>\n",
              "<td>1</td></tr>\n",
              "<tr><td>H2O_cluster_free_memory:</td>\n",
              "<td>3.170 Gb</td></tr>\n",
              "<tr><td>H2O_cluster_total_cores:</td>\n",
              "<td>2</td></tr>\n",
              "<tr><td>H2O_cluster_allowed_cores:</td>\n",
              "<td>2</td></tr>\n",
              "<tr><td>H2O_cluster_status:</td>\n",
              "<td>locked, healthy</td></tr>\n",
              "<tr><td>H2O_connection_url:</td>\n",
              "<td>http://127.0.0.1:54321</td></tr>\n",
              "<tr><td>H2O_connection_proxy:</td>\n",
              "<td>{\"http\": null, \"https\": null, \"colab_language_server\": \"/usr/colab/bin/language_service\"}</td></tr>\n",
              "<tr><td>H2O_internal_security:</td>\n",
              "<td>False</td></tr>\n",
              "<tr><td>Python_version:</td>\n",
              "<td>3.10.12 final</td></tr></tbody>\n",
              "  </table>\n",
              "</div>\n"
            ]
          },
          "metadata": {}
        }
      ]
    },
    {
      "cell_type": "code",
      "metadata": {
        "id": "j-ZCVNqg5DMo",
        "outputId": "b7e74feb-110d-4300-f992-574370113a41",
        "colab": {
          "base_uri": "https://localhost:8080/"
        }
      },
      "source": [
        "# Import data in csv as a dataframe\n",
        "file_path = '/content/drive/MyDrive/Machine Learning/H2O /diabetes.csv' # Give the file path. In my case google drive\n",
        "Diabetes_details_df = h2o.import_file(file_path)"
      ],
      "execution_count": null,
      "outputs": [
        {
          "output_type": "stream",
          "name": "stdout",
          "text": [
            "Parse progress: |████████████████████████████████████████████████████████████████| (done) 100%\n"
          ]
        }
      ]
    },
    {
      "cell_type": "code",
      "metadata": {
        "id": "aRFEg-iE1LbK",
        "outputId": "52b7c5e2-a0ab-413a-cc5b-52b55e69cefd",
        "colab": {
          "base_uri": "https://localhost:8080/"
        }
      },
      "source": [
        "# Recognize field in csv\n",
        "Diabetes_details_df.types"
      ],
      "execution_count": null,
      "outputs": [
        {
          "output_type": "execute_result",
          "data": {
            "text/plain": [
              "{'Pregnancies': 'int',\n",
              " 'Glucose': 'int',\n",
              " 'BloodPressure': 'int',\n",
              " 'SkinThickness': 'int',\n",
              " 'Insulin': 'int',\n",
              " 'BMI': 'real',\n",
              " 'DiabetesPedigreeFunction': 'real',\n",
              " 'Age': 'int',\n",
              " 'Outcome': 'int'}"
            ]
          },
          "metadata": {},
          "execution_count": 8
        }
      ]
    },
    {
      "cell_type": "code",
      "metadata": {
        "id": "R2nAk2Pf5fF1",
        "outputId": "f9e85d80-7a94-4dc6-80b5-82c108e8a5b6",
        "colab": {
          "base_uri": "https://localhost:8080/",
          "height": 691
        }
      },
      "source": [
        "# Visualize statics in data file\n",
        "Diabetes_details_df.describe()"
      ],
      "execution_count": null,
      "outputs": [
        {
          "output_type": "display_data",
          "data": {
            "text/plain": [
              "Rows:768\n",
              "Cols:9\n"
            ],
            "text/html": [
              "<pre style='margin: 1em 0 1em 0;'>Rows:768\n",
              "Cols:9\n",
              "</pre>"
            ]
          },
          "metadata": {}
        },
        {
          "output_type": "display_data",
          "data": {
            "text/plain": [
              "         Pregnancies        Glucose             BloodPressure       SkinThickness       Insulin             BMI                DiabetesPedigreeFunction    Age                 Outcome\n",
              "-------  -----------------  ------------------  ------------------  ------------------  ------------------  -----------------  --------------------------  ------------------  -------------------\n",
              "type     int                int                 int                 int                 int                 real               real                        int                 int\n",
              "mins     0.0                0.0                 0.0                 0.0                 0.0                 0.0                0.078                       21.0                0.0\n",
              "mean     3.845052083333336  120.89453125        69.10546874999994   20.536458333333357  79.79947916666666   31.99257812500003  0.4718763020833334          33.240885416666615  0.3489583333333333\n",
              "maxs     17.0               199.0               122.0               99.0                846.0               67.1               2.42                        81.0                1.0\n",
              "sigma    3.36957806269887   31.972618195136224  19.355807170644777  15.952217567727642  115.24400235133803  7.884160320375441  0.331328595012775           11.760231540678689  0.47695137724279896\n",
              "zeros    111                5                   35                  227                 374                 11                 0                           0                   500\n",
              "missing  0                  0                   0                   0                   0                   0                  0                           0                   0\n",
              "0        6.0                148.0               72.0                35.0                0.0                 33.6               0.627                       50.0                1.0\n",
              "1        1.0                85.0                66.0                29.0                0.0                 26.6               0.351                       31.0                0.0\n",
              "2        8.0                183.0               64.0                0.0                 0.0                 23.3               0.672                       32.0                1.0\n",
              "3        1.0                89.0                66.0                23.0                94.0                28.1               0.167                       21.0                0.0\n",
              "4        0.0                137.0               40.0                35.0                168.0               43.1               2.288                       33.0                1.0\n",
              "5        5.0                116.0               74.0                0.0                 0.0                 25.6               0.201                       30.0                0.0\n",
              "6        3.0                78.0                50.0                32.0                88.0                31.0               0.248                       26.0                1.0\n",
              "7        10.0               115.0               0.0                 0.0                 0.0                 35.3               0.134                       29.0                0.0\n",
              "8        2.0                197.0               70.0                45.0                543.0               30.5               0.158                       53.0                1.0\n",
              "9        8.0                125.0               96.0                0.0                 0.0                 0.0                0.232                       54.0                1.0\n",
              "[768 rows x 9 columns]\n"
            ],
            "text/html": [
              "<table class='dataframe'>\n",
              "<thead>\n",
              "<tr><th>       </th><th>Pregnancies      </th><th>Glucose           </th><th>BloodPressure     </th><th>SkinThickness     </th><th>Insulin           </th><th>BMI              </th><th>DiabetesPedigreeFunction  </th><th>Age               </th><th>Outcome            </th></tr>\n",
              "</thead>\n",
              "<tbody>\n",
              "<tr><td>type   </td><td>int              </td><td>int               </td><td>int               </td><td>int               </td><td>int               </td><td>real             </td><td>real                      </td><td>int               </td><td>int                </td></tr>\n",
              "<tr><td>mins   </td><td>0.0              </td><td>0.0               </td><td>0.0               </td><td>0.0               </td><td>0.0               </td><td>0.0              </td><td>0.078                     </td><td>21.0              </td><td>0.0                </td></tr>\n",
              "<tr><td>mean   </td><td>3.845052083333336</td><td>120.89453125      </td><td>69.10546874999994 </td><td>20.536458333333357</td><td>79.79947916666666 </td><td>31.99257812500003</td><td>0.4718763020833334        </td><td>33.240885416666615</td><td>0.3489583333333333 </td></tr>\n",
              "<tr><td>maxs   </td><td>17.0             </td><td>199.0             </td><td>122.0             </td><td>99.0              </td><td>846.0             </td><td>67.1             </td><td>2.42                      </td><td>81.0              </td><td>1.0                </td></tr>\n",
              "<tr><td>sigma  </td><td>3.36957806269887 </td><td>31.972618195136224</td><td>19.355807170644777</td><td>15.952217567727642</td><td>115.24400235133803</td><td>7.884160320375441</td><td>0.331328595012775         </td><td>11.760231540678689</td><td>0.47695137724279896</td></tr>\n",
              "<tr><td>zeros  </td><td>111              </td><td>5                 </td><td>35                </td><td>227               </td><td>374               </td><td>11               </td><td>0                         </td><td>0                 </td><td>500                </td></tr>\n",
              "<tr><td>missing</td><td>0                </td><td>0                 </td><td>0                 </td><td>0                 </td><td>0                 </td><td>0                </td><td>0                         </td><td>0                 </td><td>0                  </td></tr>\n",
              "<tr><td>0      </td><td>6.0              </td><td>148.0             </td><td>72.0              </td><td>35.0              </td><td>0.0               </td><td>33.6             </td><td>0.627                     </td><td>50.0              </td><td>1.0                </td></tr>\n",
              "<tr><td>1      </td><td>1.0              </td><td>85.0              </td><td>66.0              </td><td>29.0              </td><td>0.0               </td><td>26.6             </td><td>0.351                     </td><td>31.0              </td><td>0.0                </td></tr>\n",
              "<tr><td>2      </td><td>8.0              </td><td>183.0             </td><td>64.0              </td><td>0.0               </td><td>0.0               </td><td>23.3             </td><td>0.672                     </td><td>32.0              </td><td>1.0                </td></tr>\n",
              "<tr><td>3      </td><td>1.0              </td><td>89.0              </td><td>66.0              </td><td>23.0              </td><td>94.0              </td><td>28.1             </td><td>0.167                     </td><td>21.0              </td><td>0.0                </td></tr>\n",
              "<tr><td>4      </td><td>0.0              </td><td>137.0             </td><td>40.0              </td><td>35.0              </td><td>168.0             </td><td>43.1             </td><td>2.288                     </td><td>33.0              </td><td>1.0                </td></tr>\n",
              "<tr><td>5      </td><td>5.0              </td><td>116.0             </td><td>74.0              </td><td>0.0               </td><td>0.0               </td><td>25.6             </td><td>0.201                     </td><td>30.0              </td><td>0.0                </td></tr>\n",
              "<tr><td>6      </td><td>3.0              </td><td>78.0              </td><td>50.0              </td><td>32.0              </td><td>88.0              </td><td>31.0             </td><td>0.248                     </td><td>26.0              </td><td>1.0                </td></tr>\n",
              "<tr><td>7      </td><td>10.0             </td><td>115.0             </td><td>0.0               </td><td>0.0               </td><td>0.0               </td><td>35.3             </td><td>0.134                     </td><td>29.0              </td><td>0.0                </td></tr>\n",
              "<tr><td>8      </td><td>2.0              </td><td>197.0             </td><td>70.0              </td><td>45.0              </td><td>543.0             </td><td>30.5             </td><td>0.158                     </td><td>53.0              </td><td>1.0                </td></tr>\n",
              "<tr><td>9      </td><td>8.0              </td><td>125.0             </td><td>96.0              </td><td>0.0               </td><td>0.0               </td><td>0.0              </td><td>0.232                     </td><td>54.0              </td><td>1.0                </td></tr>\n",
              "</tbody>\n",
              "</table><pre style='font-size: smaller; margin-bottom: 1em;'>[768 rows x 9 columns]</pre>"
            ]
          },
          "metadata": {}
        }
      ]
    },
    {
      "cell_type": "code",
      "metadata": {
        "id": "fzAValVj0Uh0"
      },
      "source": [
        "# Split into train, validation and test data\n",
        "Diabetes_data_train, Diabetes_data_test, Diabetes_data_valid = Diabetes_details_df.split_frame(ratios=[.8, .12])"
      ],
      "execution_count": null,
      "outputs": []
    },
    {
      "cell_type": "code",
      "metadata": {
        "id": "SHHiJBsU21_U",
        "outputId": "3ac899e5-5ed8-4ff2-cc11-0b7e57399a0e",
        "colab": {
          "base_uri": "https://localhost:8080/",
          "height": 389
        }
      },
      "source": [
        "# Visualize train data\n",
        "Diabetes_data_train.head()"
      ],
      "execution_count": null,
      "outputs": [
        {
          "output_type": "execute_result",
          "data": {
            "text/plain": [
              "  Pregnancies    Glucose    BloodPressure    SkinThickness    Insulin    BMI    DiabetesPedigreeFunction    Age    Outcome\n",
              "-------------  ---------  ---------------  ---------------  ---------  -----  --------------------------  -----  ---------\n",
              "            6        148               72               35          0   33.6                       0.627     50          1\n",
              "            1         85               66               29          0   26.6                       0.351     31          0\n",
              "            8        183               64                0          0   23.3                       0.672     32          1\n",
              "            1         89               66               23         94   28.1                       0.167     21          0\n",
              "            0        137               40               35        168   43.1                       2.288     33          1\n",
              "            5        116               74                0          0   25.6                       0.201     30          0\n",
              "            3         78               50               32         88   31                         0.248     26          1\n",
              "           10        115                0                0          0   35.3                       0.134     29          0\n",
              "            2        197               70               45        543   30.5                       0.158     53          1\n",
              "            8        125               96                0          0    0                         0.232     54          1\n",
              "[10 rows x 9 columns]\n"
            ],
            "text/html": [
              "<table class='dataframe'>\n",
              "<thead>\n",
              "<tr><th style=\"text-align: right;\">  Pregnancies</th><th style=\"text-align: right;\">  Glucose</th><th style=\"text-align: right;\">  BloodPressure</th><th style=\"text-align: right;\">  SkinThickness</th><th style=\"text-align: right;\">  Insulin</th><th style=\"text-align: right;\">  BMI</th><th style=\"text-align: right;\">  DiabetesPedigreeFunction</th><th style=\"text-align: right;\">  Age</th><th style=\"text-align: right;\">  Outcome</th></tr>\n",
              "</thead>\n",
              "<tbody>\n",
              "<tr><td style=\"text-align: right;\">            6</td><td style=\"text-align: right;\">      148</td><td style=\"text-align: right;\">             72</td><td style=\"text-align: right;\">             35</td><td style=\"text-align: right;\">        0</td><td style=\"text-align: right;\"> 33.6</td><td style=\"text-align: right;\">                     0.627</td><td style=\"text-align: right;\">   50</td><td style=\"text-align: right;\">        1</td></tr>\n",
              "<tr><td style=\"text-align: right;\">            1</td><td style=\"text-align: right;\">       85</td><td style=\"text-align: right;\">             66</td><td style=\"text-align: right;\">             29</td><td style=\"text-align: right;\">        0</td><td style=\"text-align: right;\"> 26.6</td><td style=\"text-align: right;\">                     0.351</td><td style=\"text-align: right;\">   31</td><td style=\"text-align: right;\">        0</td></tr>\n",
              "<tr><td style=\"text-align: right;\">            8</td><td style=\"text-align: right;\">      183</td><td style=\"text-align: right;\">             64</td><td style=\"text-align: right;\">              0</td><td style=\"text-align: right;\">        0</td><td style=\"text-align: right;\"> 23.3</td><td style=\"text-align: right;\">                     0.672</td><td style=\"text-align: right;\">   32</td><td style=\"text-align: right;\">        1</td></tr>\n",
              "<tr><td style=\"text-align: right;\">            1</td><td style=\"text-align: right;\">       89</td><td style=\"text-align: right;\">             66</td><td style=\"text-align: right;\">             23</td><td style=\"text-align: right;\">       94</td><td style=\"text-align: right;\"> 28.1</td><td style=\"text-align: right;\">                     0.167</td><td style=\"text-align: right;\">   21</td><td style=\"text-align: right;\">        0</td></tr>\n",
              "<tr><td style=\"text-align: right;\">            0</td><td style=\"text-align: right;\">      137</td><td style=\"text-align: right;\">             40</td><td style=\"text-align: right;\">             35</td><td style=\"text-align: right;\">      168</td><td style=\"text-align: right;\"> 43.1</td><td style=\"text-align: right;\">                     2.288</td><td style=\"text-align: right;\">   33</td><td style=\"text-align: right;\">        1</td></tr>\n",
              "<tr><td style=\"text-align: right;\">            5</td><td style=\"text-align: right;\">      116</td><td style=\"text-align: right;\">             74</td><td style=\"text-align: right;\">              0</td><td style=\"text-align: right;\">        0</td><td style=\"text-align: right;\"> 25.6</td><td style=\"text-align: right;\">                     0.201</td><td style=\"text-align: right;\">   30</td><td style=\"text-align: right;\">        0</td></tr>\n",
              "<tr><td style=\"text-align: right;\">            3</td><td style=\"text-align: right;\">       78</td><td style=\"text-align: right;\">             50</td><td style=\"text-align: right;\">             32</td><td style=\"text-align: right;\">       88</td><td style=\"text-align: right;\"> 31  </td><td style=\"text-align: right;\">                     0.248</td><td style=\"text-align: right;\">   26</td><td style=\"text-align: right;\">        1</td></tr>\n",
              "<tr><td style=\"text-align: right;\">           10</td><td style=\"text-align: right;\">      115</td><td style=\"text-align: right;\">              0</td><td style=\"text-align: right;\">              0</td><td style=\"text-align: right;\">        0</td><td style=\"text-align: right;\"> 35.3</td><td style=\"text-align: right;\">                     0.134</td><td style=\"text-align: right;\">   29</td><td style=\"text-align: right;\">        0</td></tr>\n",
              "<tr><td style=\"text-align: right;\">            2</td><td style=\"text-align: right;\">      197</td><td style=\"text-align: right;\">             70</td><td style=\"text-align: right;\">             45</td><td style=\"text-align: right;\">      543</td><td style=\"text-align: right;\"> 30.5</td><td style=\"text-align: right;\">                     0.158</td><td style=\"text-align: right;\">   53</td><td style=\"text-align: right;\">        1</td></tr>\n",
              "<tr><td style=\"text-align: right;\">            8</td><td style=\"text-align: right;\">      125</td><td style=\"text-align: right;\">             96</td><td style=\"text-align: right;\">              0</td><td style=\"text-align: right;\">        0</td><td style=\"text-align: right;\">  0  </td><td style=\"text-align: right;\">                     0.232</td><td style=\"text-align: right;\">   54</td><td style=\"text-align: right;\">        1</td></tr>\n",
              "</tbody>\n",
              "</table><pre style='font-size: smaller; margin-bottom: 1em;'>[10 rows x 9 columns]</pre>"
            ]
          },
          "metadata": {},
          "execution_count": 11
        }
      ]
    },
    {
      "cell_type": "code",
      "metadata": {
        "id": "e6QvFazO5tzP"
      },
      "source": [
        "# Take necessary fields as x and y\n",
        "y = \"Outcome\"\n",
        "x = Diabetes_details_df.columns\n",
        "x.remove(y)"
      ],
      "execution_count": null,
      "outputs": []
    },
    {
      "cell_type": "code",
      "metadata": {
        "id": "ESplmnWT570d"
      },
      "source": [
        "# Train 10 models eliminating StackedEnsemble, DeepLearning\n",
        "auto_ml = H2OAutoML(max_models = 10, seed = 10, exclude_algos = [\"StackedEnsemble\", \"DeepLearning\"], verbosity=\"info\", nfolds=0)"
      ],
      "execution_count": null,
      "outputs": []
    },
    {
      "cell_type": "code",
      "metadata": {
        "id": "fBEls6JqeH0p",
        "outputId": "754612e5-ec28-40e2-f739-81acfbe5a5de",
        "colab": {
          "base_uri": "https://localhost:8080/",
          "height": 1000
        }
      },
      "source": [
        "# Train the model\n",
        "auto_ml.train(x = x, y = y, training_frame = Diabetes_data_train, validation_frame= Diabetes_data_valid)"
      ],
      "execution_count": null,
      "outputs": [
        {
          "output_type": "stream",
          "name": "stdout",
          "text": [
            "AutoML progress: |\n",
            "19:42:12.270: Project: AutoML_1_20240219_194212\n",
            "19:42:12.271: Cross-validation disabled by user: no fold column nor nfolds > 1.\n",
            "19:42:12.272: Setting stopping tolerance adaptively based on the training frame: 0.04003203845127178\n",
            "19:42:12.272: Build control seed: 10\n",
            "19:42:12.274: training frame: Frame key: AutoML_1_20240219_194212_training_py_2_sid_8a22    cols: 9    rows: 624  chunks: 1    size: 7588  checksum: 8679063267218595246\n",
            "19:42:12.275: validation frame: Frame key: py_4_sid_8a22    cols: 9    rows: 50  chunks: 1    size: 1203  checksum: 4688064132136554318\n",
            "19:42:12.279: leaderboard frame: Frame key: py_4_sid_8a22    cols: 9    rows: 50  chunks: 1    size: 1203  checksum: 4688064132136554318\n",
            "19:42:12.281: blending frame: NULL\n",
            "19:42:12.281: response column: Outcome\n",
            "19:42:12.281: fold column: null\n",
            "19:42:12.281: weights column: null\n",
            "19:42:12.321: Loading execution steps: [{XGBoost : [def_2 (1g, 10w), def_1 (2g, 10w), def_3 (3g, 10w), grid_1 (4g, 90w), lr_search (7g, 30w)]}, {GLM : [def_1 (1g, 10w)]}, {DRF : [def_1 (2g, 10w), XRT (3g, 10w)]}, {GBM : [def_5 (1g, 10w), def_2 (2g, 10w), def_3 (2g, 10w), def_4 (2g, 10w), def_1 (3g, 10w), grid_1 (4g, 60w), lr_annealing (7g, 10w)]}, {DeepLearning : [def_1 (3g, 10w), grid_1 (4g, 30w), grid_2 (5g, 30w), grid_3 (5g, 30w)]}, {completion : [resume_best_grids (6g, 60w)]}, {StackedEnsemble : [monotonic (9g, 10w), best_of_family_xglm (10g, 10w), all_xglm (10g, 10w)]}]\n",
            "19:42:12.368: Disabling Algo: DeepLearning as requested by the user.\n",
            "19:42:12.369: Disabling Algo: StackedEnsemble as requested by the user.\n",
            "19:42:12.370: AutoML job created: 2024.02.19 19:42:12.227\n",
            "19:42:12.372: AutoML build started: 2024.02.19 19:42:12.371\n",
            "19:42:12.414: AutoML: starting XGBoost_1_AutoML_1_20240219_194212 model training\n",
            "19:42:12.415: _response param, We have detected that your response column has only 2 unique values (0/1). If you wish to train a binary model instead of a regression model, convert your target column to categorical before training.\n",
            "\n",
            "\n",
            "19:42:13.567: New leader: XGBoost_1_AutoML_1_20240219_194212, rmse: 0.48886894448210727\n",
            "19:42:13.580: AutoML: starting GLM_1_AutoML_1_20240219_194212 model training\n",
            "19:42:13.583: _response param, We have detected that your response column has only 2 unique values (0/1). If you wish to train a binary model instead of a regression model, convert your target column to categorical before training.\n",
            "\n",
            "\n",
            "19:42:13.909: New leader: GLM_1_AutoML_1_20240219_194212, rmse: 0.42346704958803566\n",
            "19:42:13.916: AutoML: starting GBM_1_AutoML_1_20240219_194212 model training\n",
            "19:42:13.917: _response param, We have detected that your response column has only 2 unique values (0/1). If you wish to train a binary model instead of a regression model, convert your target column to categorical before training.\n",
            "\n",
            "█\n",
            "19:42:14.741: New leader: GBM_1_AutoML_1_20240219_194212, rmse: 0.4232962618930632\n",
            "19:42:14.749: AutoML: starting XGBoost_2_AutoML_1_20240219_194212 model training\n",
            "19:42:14.751: _response param, We have detected that your response column has only 2 unique values (0/1). If you wish to train a binary model instead of a regression model, convert your target column to categorical before training.\n",
            "\n",
            "█████\n",
            "19:42:17.249: AutoML: starting DRF_1_AutoML_1_20240219_194212 model training\n",
            "19:42:17.253: _response param, We have detected that your response column has only 2 unique values (0/1). If you wish to train a binary model instead of a regression model, convert your target column to categorical before training.\n",
            "\n",
            "█\n",
            "19:42:18.280: New leader: DRF_1_AutoML_1_20240219_194212, rmse: 0.4232593978383427\n",
            "19:42:18.282: AutoML: starting GBM_2_AutoML_1_20240219_194212 model training\n",
            "19:42:18.283: _response param, We have detected that your response column has only 2 unique values (0/1). If you wish to train a binary model instead of a regression model, convert your target column to categorical before training.\n",
            "19:42:18.609: New leader: GBM_2_AutoML_1_20240219_194212, rmse: 0.41704757742025106\n",
            "19:42:18.610: AutoML: starting GBM_3_AutoML_1_20240219_194212 model training\n",
            "19:42:18.611: _response param, We have detected that your response column has only 2 unique values (0/1). If you wish to train a binary model instead of a regression model, convert your target column to categorical before training.\n",
            "19:42:18.940: AutoML: starting GBM_4_AutoML_1_20240219_194212 model training\n",
            "19:42:18.941: _response param, We have detected that your response column has only 2 unique values (0/1). If you wish to train a binary model instead of a regression model, convert your target column to categorical before training.\n",
            "\n",
            "██\n",
            "19:42:19.300: New leader: GBM_4_AutoML_1_20240219_194212, rmse: 0.4115735184825189\n",
            "19:42:19.306: AutoML: starting XGBoost_3_AutoML_1_20240219_194212 model training\n",
            "19:42:19.307: _response param, We have detected that your response column has only 2 unique values (0/1). If you wish to train a binary model instead of a regression model, convert your target column to categorical before training.\n",
            "19:42:19.820: AutoML: starting XRT_1_AutoML_1_20240219_194212 model training\n",
            "19:42:19.823: _response param, We have detected that your response column has only 2 unique values (0/1). If you wish to train a binary model instead of a regression model, convert your target column to categorical before training.\n",
            "\n",
            "██████████████████████████████████████████████████████| (done) 100%\n",
            "\n",
            "19:42:20.494: New leader: XRT_1_AutoML_1_20240219_194212, rmse: 0.4086077120637969\n",
            "19:42:20.503: Skipping StackedEnsemble 'monotonic' due to the exclude_algos option or it is already trained.\n",
            "19:42:20.503: Skipping StackedEnsemble 'best_of_family_xglm' due to the exclude_algos option or it is already trained.\n",
            "19:42:20.504: Skipping StackedEnsemble 'all_xglm' due to the exclude_algos option or it is already trained.\n",
            "19:42:20.505: Actual modeling steps: [{XGBoost : [def_2 (1g, 10w)]}, {GLM : [def_1 (1g, 10w)]}, {GBM : [def_5 (1g, 10w)]}, {XGBoost : [def_1 (2g, 10w)]}, {DRF : [def_1 (2g, 10w)]}, {GBM : [def_2 (2g, 10w), def_3 (2g, 10w), def_4 (2g, 10w)]}, {XGBoost : [def_3 (3g, 10w)]}, {DRF : [XRT (3g, 10w)]}]\n",
            "19:42:20.505: AutoML build stopped: 2024.02.19 19:42:20.505\n",
            "19:42:20.505: AutoML build done: built 10 models\n",
            "19:42:20.505: AutoML duration:  8.134 sec\n",
            "\n"
          ]
        },
        {
          "output_type": "execute_result",
          "data": {
            "text/plain": [
              "Model Details\n",
              "=============\n",
              "H2ORandomForestEstimator : Distributed Random Forest\n",
              "Model Key: XRT_1_AutoML_1_20240219_194212\n",
              "\n",
              "\n",
              "Model Summary: \n",
              "    number_of_trees    number_of_internal_trees    model_size_in_bytes    min_depth    max_depth    mean_depth    min_leaves    max_leaves    mean_leaves\n",
              "--  -----------------  --------------------------  ---------------------  -----------  -----------  ------------  ------------  ------------  -------------\n",
              "    40                 40                          58062                  12           20           16            91            132           110.625\n",
              "\n",
              "ModelMetricsRegression: drf\n",
              "** Reported on train data. **\n",
              "\n",
              "MSE: 0.15336572199734413\n",
              "RMSE: 0.391619358557955\n",
              "MAE: 0.3010351847393248\n",
              "RMSLE: 0.2751565683632733\n",
              "Mean Residual Deviance: 0.15336572199734413\n",
              "\n",
              "ModelMetricsRegression: drf\n",
              "** Reported on validation data. **\n",
              "\n",
              "MSE: 0.16696026235801079\n",
              "RMSE: 0.4086077120637969\n",
              "MAE: 0.3215284632286056\n",
              "RMSLE: 0.28792457254794834\n",
              "Mean Residual Deviance: 0.16696026235801079\n",
              "\n",
              "Scoring History: \n",
              "    timestamp            duration    number_of_trees    training_rmse    training_mae    training_deviance    validation_rmse    validation_mae    validation_deviance\n",
              "--  -------------------  ----------  -----------------  ---------------  --------------  -------------------  -----------------  ----------------  ---------------------\n",
              "    2024-02-19 19:42:19  0.003 sec   0                  nan              nan             nan                  nan                nan               nan\n",
              "    2024-02-19 19:42:19  0.116 sec   5                  0.489441         0.304318        0.239553             0.440121           0.350857          0.193706\n",
              "    2024-02-19 19:42:20  0.225 sec   10                 0.429024         0.292277        0.184061             0.422793           0.330095          0.178754\n",
              "    2024-02-19 19:42:20  0.304 sec   15                 0.409054         0.292271        0.167325             0.420503           0.333841          0.176823\n",
              "    2024-02-19 19:42:20  0.378 sec   20                 0.40398          0.298773        0.1632               0.406022           0.322835          0.164854\n",
              "    2024-02-19 19:42:20  0.446 sec   25                 0.398058         0.299841        0.158451             0.389949           0.304588          0.15206\n",
              "    2024-02-19 19:42:20  0.512 sec   30                 0.394456         0.302122        0.155596             0.403686           0.319157          0.162963\n",
              "    2024-02-19 19:42:20  0.582 sec   35                 0.39263          0.299593        0.154158             0.412609           0.327747          0.170246\n",
              "    2024-02-19 19:42:20  0.656 sec   40                 0.391619         0.301035        0.153366             0.408608           0.321528          0.16696\n",
              "\n",
              "Variable Importances: \n",
              "variable                  relative_importance    scaled_importance    percentage\n",
              "------------------------  ---------------------  -------------------  ------------\n",
              "Glucose                   998.961                1                    0.268104\n",
              "Age                       609.159                0.609792             0.163488\n",
              "BMI                       566.71                 0.567299             0.152095\n",
              "DiabetesPedigreeFunction  406.836                0.407259             0.109188\n",
              "BloodPressure             312.475                0.3128               0.083863\n",
              "Pregnancies               312.191                0.312516             0.0837869\n",
              "Insulin                   270.769                0.271051             0.0726699\n",
              "SkinThickness             248.915                0.249174             0.0668045\n",
              "\n",
              "[tips]\n",
              "Use `model.explain()` to inspect the model.\n",
              "--\n",
              "Use `h2o.display.toggle_user_tips()` to switch on/off this section."
            ],
            "text/html": [
              "<pre style='margin: 1em 0 1em 0;'>Model Details\n",
              "=============\n",
              "H2ORandomForestEstimator : Distributed Random Forest\n",
              "Model Key: XRT_1_AutoML_1_20240219_194212\n",
              "</pre>\n",
              "<div style='margin: 1em 0 1em 0;'>\n",
              "<style>\n",
              "\n",
              "#h2o-table-2.h2o-container {\n",
              "  overflow-x: auto;\n",
              "}\n",
              "#h2o-table-2 .h2o-table {\n",
              "  /* width: 100%; */\n",
              "  margin-top: 1em;\n",
              "  margin-bottom: 1em;\n",
              "}\n",
              "#h2o-table-2 .h2o-table caption {\n",
              "  white-space: nowrap;\n",
              "  caption-side: top;\n",
              "  text-align: left;\n",
              "  /* margin-left: 1em; */\n",
              "  margin: 0;\n",
              "  font-size: larger;\n",
              "}\n",
              "#h2o-table-2 .h2o-table thead {\n",
              "  white-space: nowrap; \n",
              "  position: sticky;\n",
              "  top: 0;\n",
              "  box-shadow: 0 -1px inset;\n",
              "}\n",
              "#h2o-table-2 .h2o-table tbody {\n",
              "  overflow: auto;\n",
              "}\n",
              "#h2o-table-2 .h2o-table th,\n",
              "#h2o-table-2 .h2o-table td {\n",
              "  text-align: right;\n",
              "  /* border: 1px solid; */\n",
              "}\n",
              "#h2o-table-2 .h2o-table tr:nth-child(even) {\n",
              "  /* background: #F5F5F5 */\n",
              "}\n",
              "\n",
              "</style>      \n",
              "<div id=\"h2o-table-2\" class=\"h2o-container\">\n",
              "  <table class=\"h2o-table\">\n",
              "    <caption>Model Summary: </caption>\n",
              "    <thead><tr><th></th>\n",
              "<th>number_of_trees</th>\n",
              "<th>number_of_internal_trees</th>\n",
              "<th>model_size_in_bytes</th>\n",
              "<th>min_depth</th>\n",
              "<th>max_depth</th>\n",
              "<th>mean_depth</th>\n",
              "<th>min_leaves</th>\n",
              "<th>max_leaves</th>\n",
              "<th>mean_leaves</th></tr></thead>\n",
              "    <tbody><tr><td></td>\n",
              "<td>40.0</td>\n",
              "<td>40.0</td>\n",
              "<td>58062.0</td>\n",
              "<td>12.0</td>\n",
              "<td>20.0</td>\n",
              "<td>16.0</td>\n",
              "<td>91.0</td>\n",
              "<td>132.0</td>\n",
              "<td>110.625</td></tr></tbody>\n",
              "  </table>\n",
              "</div>\n",
              "</div>\n",
              "<div style='margin: 1em 0 1em 0;'><pre style='margin: 1em 0 1em 0;'>ModelMetricsRegression: drf\n",
              "** Reported on train data. **\n",
              "\n",
              "MSE: 0.15336572199734413\n",
              "RMSE: 0.391619358557955\n",
              "MAE: 0.3010351847393248\n",
              "RMSLE: 0.2751565683632733\n",
              "Mean Residual Deviance: 0.15336572199734413</pre></div>\n",
              "<div style='margin: 1em 0 1em 0;'><pre style='margin: 1em 0 1em 0;'>ModelMetricsRegression: drf\n",
              "** Reported on validation data. **\n",
              "\n",
              "MSE: 0.16696026235801079\n",
              "RMSE: 0.4086077120637969\n",
              "MAE: 0.3215284632286056\n",
              "RMSLE: 0.28792457254794834\n",
              "Mean Residual Deviance: 0.16696026235801079</pre></div>\n",
              "<div style='margin: 1em 0 1em 0;'>\n",
              "<style>\n",
              "\n",
              "#h2o-table-3.h2o-container {\n",
              "  overflow-x: auto;\n",
              "}\n",
              "#h2o-table-3 .h2o-table {\n",
              "  /* width: 100%; */\n",
              "  margin-top: 1em;\n",
              "  margin-bottom: 1em;\n",
              "}\n",
              "#h2o-table-3 .h2o-table caption {\n",
              "  white-space: nowrap;\n",
              "  caption-side: top;\n",
              "  text-align: left;\n",
              "  /* margin-left: 1em; */\n",
              "  margin: 0;\n",
              "  font-size: larger;\n",
              "}\n",
              "#h2o-table-3 .h2o-table thead {\n",
              "  white-space: nowrap; \n",
              "  position: sticky;\n",
              "  top: 0;\n",
              "  box-shadow: 0 -1px inset;\n",
              "}\n",
              "#h2o-table-3 .h2o-table tbody {\n",
              "  overflow: auto;\n",
              "}\n",
              "#h2o-table-3 .h2o-table th,\n",
              "#h2o-table-3 .h2o-table td {\n",
              "  text-align: right;\n",
              "  /* border: 1px solid; */\n",
              "}\n",
              "#h2o-table-3 .h2o-table tr:nth-child(even) {\n",
              "  /* background: #F5F5F5 */\n",
              "}\n",
              "\n",
              "</style>      \n",
              "<div id=\"h2o-table-3\" class=\"h2o-container\">\n",
              "  <table class=\"h2o-table\">\n",
              "    <caption>Scoring History: </caption>\n",
              "    <thead><tr><th></th>\n",
              "<th>timestamp</th>\n",
              "<th>duration</th>\n",
              "<th>number_of_trees</th>\n",
              "<th>training_rmse</th>\n",
              "<th>training_mae</th>\n",
              "<th>training_deviance</th>\n",
              "<th>validation_rmse</th>\n",
              "<th>validation_mae</th>\n",
              "<th>validation_deviance</th></tr></thead>\n",
              "    <tbody><tr><td></td>\n",
              "<td>2024-02-19 19:42:19</td>\n",
              "<td> 0.003 sec</td>\n",
              "<td>0.0</td>\n",
              "<td>nan</td>\n",
              "<td>nan</td>\n",
              "<td>nan</td>\n",
              "<td>nan</td>\n",
              "<td>nan</td>\n",
              "<td>nan</td></tr>\n",
              "<tr><td></td>\n",
              "<td>2024-02-19 19:42:19</td>\n",
              "<td> 0.116 sec</td>\n",
              "<td>5.0</td>\n",
              "<td>0.4894414</td>\n",
              "<td>0.3043179</td>\n",
              "<td>0.2395529</td>\n",
              "<td>0.4401206</td>\n",
              "<td>0.3508571</td>\n",
              "<td>0.1937061</td></tr>\n",
              "<tr><td></td>\n",
              "<td>2024-02-19 19:42:20</td>\n",
              "<td> 0.225 sec</td>\n",
              "<td>10.0</td>\n",
              "<td>0.4290236</td>\n",
              "<td>0.2922774</td>\n",
              "<td>0.1840613</td>\n",
              "<td>0.4227925</td>\n",
              "<td>0.3300952</td>\n",
              "<td>0.1787535</td></tr>\n",
              "<tr><td></td>\n",
              "<td>2024-02-19 19:42:20</td>\n",
              "<td> 0.304 sec</td>\n",
              "<td>15.0</td>\n",
              "<td>0.4090542</td>\n",
              "<td>0.2922705</td>\n",
              "<td>0.1673254</td>\n",
              "<td>0.4205034</td>\n",
              "<td>0.3338413</td>\n",
              "<td>0.1768231</td></tr>\n",
              "<tr><td></td>\n",
              "<td>2024-02-19 19:42:20</td>\n",
              "<td> 0.378 sec</td>\n",
              "<td>20.0</td>\n",
              "<td>0.4039799</td>\n",
              "<td>0.2987726</td>\n",
              "<td>0.1631997</td>\n",
              "<td>0.4060216</td>\n",
              "<td>0.3228355</td>\n",
              "<td>0.1648535</td></tr>\n",
              "<tr><td></td>\n",
              "<td>2024-02-19 19:42:20</td>\n",
              "<td> 0.446 sec</td>\n",
              "<td>25.0</td>\n",
              "<td>0.3980584</td>\n",
              "<td>0.2998407</td>\n",
              "<td>0.1584505</td>\n",
              "<td>0.3899485</td>\n",
              "<td>0.3045884</td>\n",
              "<td>0.1520598</td></tr>\n",
              "<tr><td></td>\n",
              "<td>2024-02-19 19:42:20</td>\n",
              "<td> 0.512 sec</td>\n",
              "<td>30.0</td>\n",
              "<td>0.3944561</td>\n",
              "<td>0.3021216</td>\n",
              "<td>0.1555956</td>\n",
              "<td>0.4036864</td>\n",
              "<td>0.3191570</td>\n",
              "<td>0.1629627</td></tr>\n",
              "<tr><td></td>\n",
              "<td>2024-02-19 19:42:20</td>\n",
              "<td> 0.582 sec</td>\n",
              "<td>35.0</td>\n",
              "<td>0.3926299</td>\n",
              "<td>0.2995929</td>\n",
              "<td>0.1541582</td>\n",
              "<td>0.4126085</td>\n",
              "<td>0.3277468</td>\n",
              "<td>0.1702458</td></tr>\n",
              "<tr><td></td>\n",
              "<td>2024-02-19 19:42:20</td>\n",
              "<td> 0.656 sec</td>\n",
              "<td>40.0</td>\n",
              "<td>0.3916194</td>\n",
              "<td>0.3010352</td>\n",
              "<td>0.1533657</td>\n",
              "<td>0.4086077</td>\n",
              "<td>0.3215285</td>\n",
              "<td>0.1669603</td></tr></tbody>\n",
              "  </table>\n",
              "</div>\n",
              "</div>\n",
              "<div style='margin: 1em 0 1em 0;'>\n",
              "<style>\n",
              "\n",
              "#h2o-table-4.h2o-container {\n",
              "  overflow-x: auto;\n",
              "}\n",
              "#h2o-table-4 .h2o-table {\n",
              "  /* width: 100%; */\n",
              "  margin-top: 1em;\n",
              "  margin-bottom: 1em;\n",
              "}\n",
              "#h2o-table-4 .h2o-table caption {\n",
              "  white-space: nowrap;\n",
              "  caption-side: top;\n",
              "  text-align: left;\n",
              "  /* margin-left: 1em; */\n",
              "  margin: 0;\n",
              "  font-size: larger;\n",
              "}\n",
              "#h2o-table-4 .h2o-table thead {\n",
              "  white-space: nowrap; \n",
              "  position: sticky;\n",
              "  top: 0;\n",
              "  box-shadow: 0 -1px inset;\n",
              "}\n",
              "#h2o-table-4 .h2o-table tbody {\n",
              "  overflow: auto;\n",
              "}\n",
              "#h2o-table-4 .h2o-table th,\n",
              "#h2o-table-4 .h2o-table td {\n",
              "  text-align: right;\n",
              "  /* border: 1px solid; */\n",
              "}\n",
              "#h2o-table-4 .h2o-table tr:nth-child(even) {\n",
              "  /* background: #F5F5F5 */\n",
              "}\n",
              "\n",
              "</style>      \n",
              "<div id=\"h2o-table-4\" class=\"h2o-container\">\n",
              "  <table class=\"h2o-table\">\n",
              "    <caption>Variable Importances: </caption>\n",
              "    <thead><tr><th>variable</th>\n",
              "<th>relative_importance</th>\n",
              "<th>scaled_importance</th>\n",
              "<th>percentage</th></tr></thead>\n",
              "    <tbody><tr><td>Glucose</td>\n",
              "<td>998.9609985</td>\n",
              "<td>1.0</td>\n",
              "<td>0.2681044</td></tr>\n",
              "<tr><td>Age</td>\n",
              "<td>609.1587524</td>\n",
              "<td>0.6097923</td>\n",
              "<td>0.1634880</td></tr>\n",
              "<tr><td>BMI</td>\n",
              "<td>566.7095337</td>\n",
              "<td>0.5672990</td>\n",
              "<td>0.1520954</td></tr>\n",
              "<tr><td>DiabetesPedigreeFunction</td>\n",
              "<td>406.8356323</td>\n",
              "<td>0.4072588</td>\n",
              "<td>0.1091879</td></tr>\n",
              "<tr><td>BloodPressure</td>\n",
              "<td>312.4747009</td>\n",
              "<td>0.3127997</td>\n",
              "<td>0.0838630</td></tr>\n",
              "<tr><td>Pregnancies</td>\n",
              "<td>312.1911011</td>\n",
              "<td>0.3125158</td>\n",
              "<td>0.0837869</td></tr>\n",
              "<tr><td>Insulin</td>\n",
              "<td>270.7690430</td>\n",
              "<td>0.2710507</td>\n",
              "<td>0.0726699</td></tr>\n",
              "<tr><td>SkinThickness</td>\n",
              "<td>248.9146271</td>\n",
              "<td>0.2491735</td>\n",
              "<td>0.0668045</td></tr></tbody>\n",
              "  </table>\n",
              "</div>\n",
              "</div><pre style=\"font-size: smaller; margin: 1em 0 0 0;\">\n",
              "\n",
              "[tips]\n",
              "Use `model.explain()` to inspect the model.\n",
              "--\n",
              "Use `h2o.display.toggle_user_tips()` to switch on/off this section.</pre>"
            ]
          },
          "metadata": {},
          "execution_count": 14
        }
      ]
    },
    {
      "cell_type": "code",
      "metadata": {
        "id": "ALlZEBNd68Nm"
      },
      "source": [
        "# Get leader board to analysis performance of models\n",
        "lb = auto_ml.leaderboard"
      ],
      "execution_count": null,
      "outputs": []
    },
    {
      "cell_type": "code",
      "metadata": {
        "id": "x-bfxNwL6-2l",
        "outputId": "55623bc0-beab-4024-f8f4-868e81fbe190",
        "colab": {
          "base_uri": "https://localhost:8080/",
          "height": 389
        }
      },
      "source": [
        "lb.head()"
      ],
      "execution_count": null,
      "outputs": [
        {
          "output_type": "execute_result",
          "data": {
            "text/plain": [
              "model_id                                rmse       mse       mae     rmsle    mean_residual_deviance\n",
              "----------------------------------  --------  --------  --------  --------  ------------------------\n",
              "XRT_1_AutoML_1_20240219_194212      0.408608  0.16696   0.321528  0.287925                  0.16696\n",
              "GBM_4_AutoML_1_20240219_194212      0.411574  0.169393  0.308464  0.288878                  0.169393\n",
              "GBM_2_AutoML_1_20240219_194212      0.417048  0.173929  0.315804  0.292151                  0.173929\n",
              "GBM_3_AutoML_1_20240219_194212      0.421488  0.177652  0.3156    0.296706                  0.177652\n",
              "DRF_1_AutoML_1_20240219_194212      0.423259  0.179149  0.323636  0.296609                  0.179149\n",
              "GBM_1_AutoML_1_20240219_194212      0.423296  0.17918   0.337482  0.298969                  0.17918\n",
              "GLM_1_AutoML_1_20240219_194212      0.423467  0.179324  0.360883  0.304391                  0.179324\n",
              "XGBoost_2_AutoML_1_20240219_194212  0.454595  0.206657  0.333447  0.321705                  0.206657\n",
              "XGBoost_3_AutoML_1_20240219_194212  0.457718  0.209506  0.333945  0.324284                  0.209506\n",
              "XGBoost_1_AutoML_1_20240219_194212  0.488869  0.238993  0.374902  0.339212                  0.238993\n",
              "[10 rows x 6 columns]\n"
            ],
            "text/html": [
              "<table class='dataframe'>\n",
              "<thead>\n",
              "<tr><th>model_id                          </th><th style=\"text-align: right;\">    rmse</th><th style=\"text-align: right;\">     mse</th><th style=\"text-align: right;\">     mae</th><th style=\"text-align: right;\">   rmsle</th><th style=\"text-align: right;\">  mean_residual_deviance</th></tr>\n",
              "</thead>\n",
              "<tbody>\n",
              "<tr><td>XRT_1_AutoML_1_20240219_194212    </td><td style=\"text-align: right;\">0.408608</td><td style=\"text-align: right;\">0.16696 </td><td style=\"text-align: right;\">0.321528</td><td style=\"text-align: right;\">0.287925</td><td style=\"text-align: right;\">                0.16696 </td></tr>\n",
              "<tr><td>GBM_4_AutoML_1_20240219_194212    </td><td style=\"text-align: right;\">0.411574</td><td style=\"text-align: right;\">0.169393</td><td style=\"text-align: right;\">0.308464</td><td style=\"text-align: right;\">0.288878</td><td style=\"text-align: right;\">                0.169393</td></tr>\n",
              "<tr><td>GBM_2_AutoML_1_20240219_194212    </td><td style=\"text-align: right;\">0.417048</td><td style=\"text-align: right;\">0.173929</td><td style=\"text-align: right;\">0.315804</td><td style=\"text-align: right;\">0.292151</td><td style=\"text-align: right;\">                0.173929</td></tr>\n",
              "<tr><td>GBM_3_AutoML_1_20240219_194212    </td><td style=\"text-align: right;\">0.421488</td><td style=\"text-align: right;\">0.177652</td><td style=\"text-align: right;\">0.3156  </td><td style=\"text-align: right;\">0.296706</td><td style=\"text-align: right;\">                0.177652</td></tr>\n",
              "<tr><td>DRF_1_AutoML_1_20240219_194212    </td><td style=\"text-align: right;\">0.423259</td><td style=\"text-align: right;\">0.179149</td><td style=\"text-align: right;\">0.323636</td><td style=\"text-align: right;\">0.296609</td><td style=\"text-align: right;\">                0.179149</td></tr>\n",
              "<tr><td>GBM_1_AutoML_1_20240219_194212    </td><td style=\"text-align: right;\">0.423296</td><td style=\"text-align: right;\">0.17918 </td><td style=\"text-align: right;\">0.337482</td><td style=\"text-align: right;\">0.298969</td><td style=\"text-align: right;\">                0.17918 </td></tr>\n",
              "<tr><td>GLM_1_AutoML_1_20240219_194212    </td><td style=\"text-align: right;\">0.423467</td><td style=\"text-align: right;\">0.179324</td><td style=\"text-align: right;\">0.360883</td><td style=\"text-align: right;\">0.304391</td><td style=\"text-align: right;\">                0.179324</td></tr>\n",
              "<tr><td>XGBoost_2_AutoML_1_20240219_194212</td><td style=\"text-align: right;\">0.454595</td><td style=\"text-align: right;\">0.206657</td><td style=\"text-align: right;\">0.333447</td><td style=\"text-align: right;\">0.321705</td><td style=\"text-align: right;\">                0.206657</td></tr>\n",
              "<tr><td>XGBoost_3_AutoML_1_20240219_194212</td><td style=\"text-align: right;\">0.457718</td><td style=\"text-align: right;\">0.209506</td><td style=\"text-align: right;\">0.333945</td><td style=\"text-align: right;\">0.324284</td><td style=\"text-align: right;\">                0.209506</td></tr>\n",
              "<tr><td>XGBoost_1_AutoML_1_20240219_194212</td><td style=\"text-align: right;\">0.488869</td><td style=\"text-align: right;\">0.238993</td><td style=\"text-align: right;\">0.374902</td><td style=\"text-align: right;\">0.339212</td><td style=\"text-align: right;\">                0.238993</td></tr>\n",
              "</tbody>\n",
              "</table><pre style='font-size: smaller; margin-bottom: 1em;'>[10 rows x 6 columns]</pre>"
            ]
          },
          "metadata": {},
          "execution_count": 16
        }
      ]
    },
    {
      "cell_type": "code",
      "metadata": {
        "id": "lob8HRvc4bwq",
        "outputId": "11ce6078-a3e3-4c08-d259-83994d42bd24",
        "colab": {
          "base_uri": "https://localhost:8080/"
        }
      },
      "source": [
        "# Predictions\n",
        "Diabetes_pred = auto_ml.leader.predict(Diabetes_data_test)"
      ],
      "execution_count": null,
      "outputs": [
        {
          "output_type": "stream",
          "name": "stdout",
          "text": [
            "drf prediction progress: |███████████████████████████████████████████████████████| (done) 100%\n"
          ]
        }
      ]
    },
    {
      "cell_type": "code",
      "metadata": {
        "id": "jX50NC-L5NJR",
        "outputId": "4fe232c5-70e9-4ea2-ad78-d6092b6aaf51",
        "colab": {
          "base_uri": "https://localhost:8080/",
          "height": 389
        }
      },
      "source": [
        "Diabetes_pred.head()"
      ],
      "execution_count": null,
      "outputs": [
        {
          "output_type": "execute_result",
          "data": {
            "text/plain": [
              "    predict\n",
              "-----------\n",
              "0.195\n",
              "0.868182\n",
              "0.499432\n",
              "0.325\n",
              "0.000297619\n",
              "0.000297619\n",
              "0.1\n",
              "0.525\n",
              "0.00386905\n",
              "0.3\n",
              "[10 rows x 1 column]\n"
            ],
            "text/html": [
              "<table class='dataframe'>\n",
              "<thead>\n",
              "<tr><th style=\"text-align: right;\">    predict</th></tr>\n",
              "</thead>\n",
              "<tbody>\n",
              "<tr><td style=\"text-align: right;\">0.195      </td></tr>\n",
              "<tr><td style=\"text-align: right;\">0.868182   </td></tr>\n",
              "<tr><td style=\"text-align: right;\">0.499432   </td></tr>\n",
              "<tr><td style=\"text-align: right;\">0.325      </td></tr>\n",
              "<tr><td style=\"text-align: right;\">0.000297619</td></tr>\n",
              "<tr><td style=\"text-align: right;\">0.000297619</td></tr>\n",
              "<tr><td style=\"text-align: right;\">0.1        </td></tr>\n",
              "<tr><td style=\"text-align: right;\">0.525      </td></tr>\n",
              "<tr><td style=\"text-align: right;\">0.00386905 </td></tr>\n",
              "<tr><td style=\"text-align: right;\">0.3        </td></tr>\n",
              "</tbody>\n",
              "</table><pre style='font-size: smaller; margin-bottom: 1em;'>[10 rows x 1 column]</pre>"
            ]
          },
          "metadata": {},
          "execution_count": 20
        }
      ]
    },
    {
      "cell_type": "code",
      "metadata": {
        "id": "GVTyHEfe6whc",
        "outputId": "d3820a4a-35de-467a-8ec9-36ad827dad75",
        "colab": {
          "base_uri": "https://localhost:8080/",
          "height": 184
        }
      },
      "source": [
        "# Best model for predictions\n",
        "auto_ml.leader.model_performance(Diabetes_data_test)"
      ],
      "execution_count": null,
      "outputs": [
        {
          "output_type": "execute_result",
          "data": {
            "text/plain": [
              "ModelMetricsRegression: drf\n",
              "** Reported on test data. **\n",
              "\n",
              "MSE: 0.23040255108450922\n",
              "RMSE: 0.4800026573723412\n",
              "MAE: 0.382312995060149\n",
              "RMSLE: 0.327507965205352\n",
              "Mean Residual Deviance: 0.23040255108450922"
            ],
            "text/html": [
              "<pre style='margin: 1em 0 1em 0;'>ModelMetricsRegression: drf\n",
              "** Reported on test data. **\n",
              "\n",
              "MSE: 0.23040255108450922\n",
              "RMSE: 0.4800026573723412\n",
              "MAE: 0.382312995060149\n",
              "RMSLE: 0.327507965205352\n",
              "Mean Residual Deviance: 0.23040255108450922</pre>"
            ]
          },
          "metadata": {},
          "execution_count": 21
        }
      ]
    },
    {
      "cell_type": "code",
      "metadata": {
        "id": "kl3m9BrA8whW",
        "colab": {
          "base_uri": "https://localhost:8080/"
        },
        "outputId": "1d4b08fc-5f46-46ac-b3f0-decafc944de4"
      },
      "source": [
        "# Get model ids\n",
        "model_ids = list(auto_ml.leaderboard['model_id'].as_data_frame().iloc[:,0])"
      ],
      "execution_count": null,
      "outputs": [
        {
          "output_type": "stream",
          "name": "stdout",
          "text": [
            "Export File progress: |██████████████████████████████████████████████████████████| (done) 100%\n"
          ]
        }
      ]
    },
    {
      "cell_type": "code",
      "metadata": {
        "id": "S_7RYNenT527",
        "outputId": "dff45492-d8d9-48da-e62b-5faef3446d47",
        "colab": {
          "base_uri": "https://localhost:8080/"
        }
      },
      "source": [
        "model_ids"
      ],
      "execution_count": null,
      "outputs": [
        {
          "output_type": "execute_result",
          "data": {
            "text/plain": [
              "['XRT_1_AutoML_1_20240219_194212',\n",
              " 'GBM_4_AutoML_1_20240219_194212',\n",
              " 'GBM_2_AutoML_1_20240219_194212',\n",
              " 'GBM_3_AutoML_1_20240219_194212',\n",
              " 'DRF_1_AutoML_1_20240219_194212',\n",
              " 'GBM_1_AutoML_1_20240219_194212',\n",
              " 'GLM_1_AutoML_1_20240219_194212',\n",
              " 'XGBoost_2_AutoML_1_20240219_194212',\n",
              " 'XGBoost_3_AutoML_1_20240219_194212',\n",
              " 'XGBoost_1_AutoML_1_20240219_194212']"
            ]
          },
          "metadata": {},
          "execution_count": 23
        }
      ]
    },
    {
      "cell_type": "code",
      "metadata": {
        "id": "JGqA2fD7fJS7"
      },
      "source": [
        "# Get the output model\n",
        "out_xrt = h2o.get_model([mid for mid in model_ids if \"XRT\" in mid][0])"
      ],
      "execution_count": null,
      "outputs": []
    },
    {
      "cell_type": "code",
      "metadata": {
        "id": "WzYCf-itPIf_",
        "outputId": "a359a12b-9976-4238-c497-35f448711c49",
        "colab": {
          "base_uri": "https://localhost:8080/",
          "height": 888
        }
      },
      "source": [
        "# Plot varible importance\n",
        "out_xrt.varimp_plot()"
      ],
      "execution_count": null,
      "outputs": [
        {
          "output_type": "display_data",
          "data": {
            "text/plain": [
              "<Figure size 1400x1000 with 1 Axes>"
            ],
            "image/png": "[encoded data removed]"
          },
          "metadata": {}
        },
        {
          "output_type": "execute_result",
          "data": {
            "text/plain": [
              "<h2o.plot._plot_result._MObject at 0x7e7832f361a0>"
            ]
          },
          "metadata": {},
          "execution_count": 27
        },
        {
          "output_type": "display_data",
          "data": {
            "text/plain": [
              "<Figure size 640x480 with 0 Axes>"
            ]
          },
          "metadata": {}
        }
      ]
    },
    {
      "cell_type": "code",
      "metadata": {
        "id": "mzfOwj0vwmW4",
        "outputId": "00ab3085-0f4e-47f5-b917-93572652edd6",
        "colab": {
          "base_uri": "https://localhost:8080/",
          "height": 36
        }
      },
      "source": [
        "# Save the best model as a mojo\n",
        "auto_ml.leader.download_mojo(path = \"/content/drive/MyDrive/Machine Learning/Diabetes\")"
      ],
      "execution_count": null,
      "outputs": [
        {
          "output_type": "execute_result",
          "data": {
            "text/plain": [
              "'/content/drive/MyDrive/Machine Learning/Diabetes'"
            ],
            "application/vnd.google.colaboratory.intrinsic+json": {
              "type": "string"
            }
          },
          "metadata": {},
          "execution_count": 28
        }
      ]
    }
  ]
}